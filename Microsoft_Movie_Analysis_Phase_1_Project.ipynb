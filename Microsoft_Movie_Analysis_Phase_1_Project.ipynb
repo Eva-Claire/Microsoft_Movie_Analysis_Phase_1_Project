{
 "cells": [
  {
   "attachments": {},
   "cell_type": "markdown",
   "metadata": {},
   "source": [
    "\n",
    "![film crew](film_crew_icon.jpg)"
   ]
  },
  {
   "cell_type": "markdown",
   "metadata": {},
   "source": [
    "# MOVIE ANALYSIS FOR MICROSOFT CORPORATION\n",
    "\n",
    "\n",
    "## Final Project Submission \n",
    "\n",
    "* Student name: Evaclaire Munyika\n",
    "* Student pace: Full time - Remote\n",
    "* Scheduled project review date/time: 22nd March, 2024\n",
    "* Instructor name: Asha Deen / Lucille Kaleha\n",
    "\n"
   ]
  },
  {
   "cell_type": "markdown",
   "metadata": {},
   "source": [
    "## OVERVIEW"
   ]
  },
  {
   "cell_type": "markdown",
   "metadata": {},
   "source": [
    "This project was aimed at helping Microsoft break into the movie industry by obtaining much needed insight into what makes for a great movie. I looked into a wide variety of films produced over the years to see what makes some perform better than others.\n",
    "\n",
    "From my analysis, the following were the greatest determiners of a movie's success:\n",
    "\n",
    "* Genre: Different genres appeal to different audiences and certain genres tend to perform better at the box office than others. Genres such as action, adventure, fantasy, and superhero movies tend to have a wider appeal and thus generate more box office revenue.\n",
    "\n",
    "* Release Timing: The time of year a movie is released directly impacts its box office performance. Movies released during peak seasons or strategically timed to coincide with holidays or special events tend to perform better.\n",
    "\n",
    "* Budget: The effectiveness of a movie's production, marketing and promotional campaigns significantly influence its box office success. A larger budget enables the best production methods and teams and wider promotion tours for a movie leading to higher ticket sales.\n",
    "\n"
   ]
  },
  {
   "cell_type": "markdown",
   "metadata": {},
   "source": [
    "## BUSINESS UNDERSTANDING"
   ]
  },
  {
   "cell_type": "markdown",
   "metadata": {},
   "source": [
    "Microsoft is a multinational technology company headquatered in Redmond, Washington,USA. They are well known for their software products and services and are now looking to dive into the movie making scene and compete against industry heavy hitters. Microsoft decided to create a new movie studio but they lacked proper insight as to what makes great movies,GREAT! The goal was to analyse some of the most successful box office movies and advice the head of Microsoft's new movie studio on what they need inorder to produce successful films. "
   ]
  },
  {
   "cell_type": "markdown",
   "metadata": {},
   "source": [
    "## DATA UNDERSTANDING"
   ]
  },
  {
   "cell_type": "markdown",
   "metadata": {},
   "source": [
    "The following were the sources of data I chose for this project:\n",
    "\n",
    "* ImDb movie database - This was an internet movie database accessible via SQLite3 that contained two tables relevant to my analysis. The first table was the movie basic table that contained movie id, original and primary movie title, start year, genre, runtime in minutes. The second table was called movie rating that contained movie id, average rating and number of votes a movie garnered.\n",
    "\n",
    "* Box office mojo (BOM) - BOM is a popular box office data website that analyzes and tracks performance of films in theatres. This dataset contained the movie name, domestic and foreign gross, year of production and the studio that produced the movie.\n",
    "\n",
    "* The Numbers - This website conducts financial analysis of films and tracks box office revenue. This particular dataset contained data on movie production budgets, domestic and worldwide gross income and release dates. "
   ]
  },
  {
   "cell_type": "markdown",
   "metadata": {},
   "source": [
    "I began by importing the modules I would require for the entirety of this project."
   ]
  },
  {
   "cell_type": "code",
   "execution_count": 1,
   "metadata": {},
   "outputs": [],
   "source": [
    "# importing the necessary modules to carry out the project\n",
    "import pandas as pd\n",
    "# configuring pandas to display floating point numbers \n",
    "# to 2 decimal places\n",
    "pd.options.display.float_format = '{:.2f}'.format\n",
    "import sqlite3\n",
    "import numpy as np\n",
    "import seaborn as sns\n",
    "import matplotlib.pyplot as plt\n",
    "%matplotlib inline"
   ]
  },
  {
   "cell_type": "markdown",
   "metadata": {},
   "source": [
    "### International Movie Database (IMDB) "
   ]
  },
  {
   "cell_type": "markdown",
   "metadata": {},
   "source": [
    "Then I began by assessing the data contained in the movie basics table in the imdb database using SQLite3."
   ]
  },
  {
   "cell_type": "code",
   "execution_count": 2,
   "metadata": {},
   "outputs": [
    {
     "data": {
      "text/html": [
       "<div>\n",
       "<style scoped>\n",
       "    .dataframe tbody tr th:only-of-type {\n",
       "        vertical-align: middle;\n",
       "    }\n",
       "\n",
       "    .dataframe tbody tr th {\n",
       "        vertical-align: top;\n",
       "    }\n",
       "\n",
       "    .dataframe thead th {\n",
       "        text-align: right;\n",
       "    }\n",
       "</style>\n",
       "<table border=\"1\" class=\"dataframe\">\n",
       "  <thead>\n",
       "    <tr style=\"text-align: right;\">\n",
       "      <th></th>\n",
       "      <th>movie_id</th>\n",
       "      <th>primary_title</th>\n",
       "      <th>original_title</th>\n",
       "      <th>start_year</th>\n",
       "      <th>runtime_minutes</th>\n",
       "      <th>genres</th>\n",
       "    </tr>\n",
       "  </thead>\n",
       "  <tbody>\n",
       "    <tr>\n",
       "      <th>0</th>\n",
       "      <td>tt0063540</td>\n",
       "      <td>Sunghursh</td>\n",
       "      <td>Sunghursh</td>\n",
       "      <td>2013</td>\n",
       "      <td>175.00</td>\n",
       "      <td>Action,Crime,Drama</td>\n",
       "    </tr>\n",
       "    <tr>\n",
       "      <th>1</th>\n",
       "      <td>tt0066787</td>\n",
       "      <td>One Day Before the Rainy Season</td>\n",
       "      <td>Ashad Ka Ek Din</td>\n",
       "      <td>2019</td>\n",
       "      <td>114.00</td>\n",
       "      <td>Biography,Drama</td>\n",
       "    </tr>\n",
       "    <tr>\n",
       "      <th>2</th>\n",
       "      <td>tt0069049</td>\n",
       "      <td>The Other Side of the Wind</td>\n",
       "      <td>The Other Side of the Wind</td>\n",
       "      <td>2018</td>\n",
       "      <td>122.00</td>\n",
       "      <td>Drama</td>\n",
       "    </tr>\n",
       "    <tr>\n",
       "      <th>3</th>\n",
       "      <td>tt0069204</td>\n",
       "      <td>Sabse Bada Sukh</td>\n",
       "      <td>Sabse Bada Sukh</td>\n",
       "      <td>2018</td>\n",
       "      <td>nan</td>\n",
       "      <td>Comedy,Drama</td>\n",
       "    </tr>\n",
       "    <tr>\n",
       "      <th>4</th>\n",
       "      <td>tt0100275</td>\n",
       "      <td>The Wandering Soap Opera</td>\n",
       "      <td>La Telenovela Errante</td>\n",
       "      <td>2017</td>\n",
       "      <td>80.00</td>\n",
       "      <td>Comedy,Drama,Fantasy</td>\n",
       "    </tr>\n",
       "  </tbody>\n",
       "</table>\n",
       "</div>"
      ],
      "text/plain": [
       "    movie_id                    primary_title              original_title  \\\n",
       "0  tt0063540                        Sunghursh                   Sunghursh   \n",
       "1  tt0066787  One Day Before the Rainy Season             Ashad Ka Ek Din   \n",
       "2  tt0069049       The Other Side of the Wind  The Other Side of the Wind   \n",
       "3  tt0069204                  Sabse Bada Sukh             Sabse Bada Sukh   \n",
       "4  tt0100275         The Wandering Soap Opera       La Telenovela Errante   \n",
       "\n",
       "   start_year  runtime_minutes                genres  \n",
       "0        2013           175.00    Action,Crime,Drama  \n",
       "1        2019           114.00       Biography,Drama  \n",
       "2        2018           122.00                 Drama  \n",
       "3        2018              nan          Comedy,Drama  \n",
       "4        2017            80.00  Comedy,Drama,Fantasy  "
      ]
     },
     "execution_count": 2,
     "metadata": {},
     "output_type": "execute_result"
    }
   ],
   "source": [
    "# declaring the path to the database\n",
    "database_path = r'/Users/claire/Desktop/DS-FT08/Project files/im.db'\n",
    "# connecting to the database\n",
    "conn = sqlite3.connect(database_path)\n",
    "# querying the database to view the movie basics table\n",
    "q = '''\n",
    "SELECT *\n",
    "FROM movie_basics;\n",
    "'''\n",
    "movie_basics_df = pd.read_sql(q, conn)\n",
    "# closing the database connection\n",
    "conn.close()\n",
    "# previewing the dataframe\n",
    "movie_basics_df.head()"
   ]
  },
  {
   "cell_type": "code",
   "execution_count": 3,
   "metadata": {},
   "outputs": [
    {
     "name": "stdout",
     "output_type": "stream",
     "text": [
      "<class 'pandas.core.frame.DataFrame'>\n",
      "RangeIndex: 146144 entries, 0 to 146143\n",
      "Data columns (total 6 columns):\n",
      " #   Column           Non-Null Count   Dtype  \n",
      "---  ------           --------------   -----  \n",
      " 0   movie_id         146144 non-null  object \n",
      " 1   primary_title    146144 non-null  object \n",
      " 2   original_title   146123 non-null  object \n",
      " 3   start_year       146144 non-null  int64  \n",
      " 4   runtime_minutes  114405 non-null  float64\n",
      " 5   genres           140736 non-null  object \n",
      "dtypes: float64(1), int64(1), object(4)\n",
      "memory usage: 6.7+ MB\n"
     ]
    }
   ],
   "source": [
    "# assessing information about the dataframe \n",
    "movie_basics_df.info()"
   ]
  },
  {
   "cell_type": "markdown",
   "metadata": {},
   "source": [
    "I could see I had some missing values in the original_title column, the start_year column, runtime_minutes and genres column. My major focus was on the genres, runtime minutes and start year column so I went ahead to see what they contained."
   ]
  },
  {
   "cell_type": "code",
   "execution_count": 4,
   "metadata": {},
   "outputs": [
    {
     "data": {
      "text/plain": [
       "Documentary              32185\n",
       "Drama                    21486\n",
       "Comedy                    9177\n",
       "Horror                    4372\n",
       "Comedy,Drama              3519\n",
       "Thriller                  3046\n",
       "Action                    2219\n",
       "Biography,Documentary     2115\n",
       "Drama,Romance             2079\n",
       "Comedy,Drama,Romance      1558\n",
       "Name: genres, dtype: int64"
      ]
     },
     "execution_count": 4,
     "metadata": {},
     "output_type": "execute_result"
    }
   ],
   "source": [
    "# assessing the value counts of the top 10 genres\n",
    "movie_basics_df['genres'].value_counts().head(10)"
   ]
  },
  {
   "cell_type": "code",
   "execution_count": 5,
   "metadata": {},
   "outputs": [
    {
     "data": {
      "text/plain": [
       "count   114405.00\n",
       "mean        86.19\n",
       "std        166.36\n",
       "min          1.00\n",
       "25%         70.00\n",
       "50%         87.00\n",
       "75%         99.00\n",
       "max      51420.00\n",
       "Name: runtime_minutes, dtype: float64"
      ]
     },
     "execution_count": 5,
     "metadata": {},
     "output_type": "execute_result"
    }
   ],
   "source": [
    "# getting descriptive statistics of the runtime minutes column\n",
    "movie_basics_df['runtime_minutes'].describe()"
   ]
  },
  {
   "cell_type": "markdown",
   "metadata": {},
   "source": [
    "Now to view the contents of the movie ratings dataframe."
   ]
  },
  {
   "cell_type": "code",
   "execution_count": 6,
   "metadata": {},
   "outputs": [
    {
     "data": {
      "text/html": [
       "<div>\n",
       "<style scoped>\n",
       "    .dataframe tbody tr th:only-of-type {\n",
       "        vertical-align: middle;\n",
       "    }\n",
       "\n",
       "    .dataframe tbody tr th {\n",
       "        vertical-align: top;\n",
       "    }\n",
       "\n",
       "    .dataframe thead th {\n",
       "        text-align: right;\n",
       "    }\n",
       "</style>\n",
       "<table border=\"1\" class=\"dataframe\">\n",
       "  <thead>\n",
       "    <tr style=\"text-align: right;\">\n",
       "      <th></th>\n",
       "      <th>movie_id</th>\n",
       "      <th>averagerating</th>\n",
       "      <th>numvotes</th>\n",
       "    </tr>\n",
       "  </thead>\n",
       "  <tbody>\n",
       "    <tr>\n",
       "      <th>0</th>\n",
       "      <td>tt10356526</td>\n",
       "      <td>8.30</td>\n",
       "      <td>31</td>\n",
       "    </tr>\n",
       "    <tr>\n",
       "      <th>1</th>\n",
       "      <td>tt10384606</td>\n",
       "      <td>8.90</td>\n",
       "      <td>559</td>\n",
       "    </tr>\n",
       "    <tr>\n",
       "      <th>2</th>\n",
       "      <td>tt1042974</td>\n",
       "      <td>6.40</td>\n",
       "      <td>20</td>\n",
       "    </tr>\n",
       "    <tr>\n",
       "      <th>3</th>\n",
       "      <td>tt1043726</td>\n",
       "      <td>4.20</td>\n",
       "      <td>50352</td>\n",
       "    </tr>\n",
       "    <tr>\n",
       "      <th>4</th>\n",
       "      <td>tt1060240</td>\n",
       "      <td>6.50</td>\n",
       "      <td>21</td>\n",
       "    </tr>\n",
       "  </tbody>\n",
       "</table>\n",
       "</div>"
      ],
      "text/plain": [
       "     movie_id  averagerating  numvotes\n",
       "0  tt10356526           8.30        31\n",
       "1  tt10384606           8.90       559\n",
       "2   tt1042974           6.40        20\n",
       "3   tt1043726           4.20     50352\n",
       "4   tt1060240           6.50        21"
      ]
     },
     "execution_count": 6,
     "metadata": {},
     "output_type": "execute_result"
    }
   ],
   "source": [
    "# declaring the path to the database\n",
    "database_path = r'/Users/claire/Desktop/DS-FT08/Project files/im.db'\n",
    "# connecting to the database\n",
    "conn = sqlite3.connect(database_path)\n",
    "# querying the database to view the movie ratings table\n",
    "q = '''\n",
    "SELECT *\n",
    "FROM movie_ratings;\n",
    "'''\n",
    "movie_ratings_df = pd.read_sql(q, conn)\n",
    "# closing the database connection\n",
    "conn.close()\n",
    "# previewing the dataframe\n",
    "movie_ratings_df.head()"
   ]
  },
  {
   "cell_type": "code",
   "execution_count": 7,
   "metadata": {},
   "outputs": [
    {
     "name": "stdout",
     "output_type": "stream",
     "text": [
      "<class 'pandas.core.frame.DataFrame'>\n",
      "RangeIndex: 73856 entries, 0 to 73855\n",
      "Data columns (total 3 columns):\n",
      " #   Column         Non-Null Count  Dtype  \n",
      "---  ------         --------------  -----  \n",
      " 0   movie_id       73856 non-null  object \n",
      " 1   averagerating  73856 non-null  float64\n",
      " 2   numvotes       73856 non-null  int64  \n",
      "dtypes: float64(1), int64(1), object(1)\n",
      "memory usage: 1.7+ MB\n"
     ]
    }
   ],
   "source": [
    "# assessing information about the dataframe\n",
    "movie_ratings_df.info()"
   ]
  },
  {
   "cell_type": "markdown",
   "metadata": {},
   "source": [
    "Luckily there were no missing values so I went on to get descriptive statistics of the average rating column and the numvotes column to get a feel of the data."
   ]
  },
  {
   "cell_type": "code",
   "execution_count": 8,
   "metadata": {},
   "outputs": [
    {
     "data": {
      "text/plain": [
       "count   73856.00\n",
       "mean        6.33\n",
       "std         1.47\n",
       "min         1.00\n",
       "25%         5.50\n",
       "50%         6.50\n",
       "75%         7.40\n",
       "max        10.00\n",
       "Name: averagerating, dtype: float64"
      ]
     },
     "execution_count": 8,
     "metadata": {},
     "output_type": "execute_result"
    }
   ],
   "source": [
    "# getting descriptive statistics of average movie ratings\n",
    "movie_ratings_df['averagerating'].describe()"
   ]
  },
  {
   "cell_type": "code",
   "execution_count": 9,
   "metadata": {},
   "outputs": [
    {
     "data": {
      "text/plain": [
       "count     73856.00\n",
       "mean       3523.66\n",
       "std       30294.02\n",
       "min           5.00\n",
       "25%          14.00\n",
       "50%          49.00\n",
       "75%         282.00\n",
       "max     1841066.00\n",
       "Name: numvotes, dtype: float64"
      ]
     },
     "execution_count": 9,
     "metadata": {},
     "output_type": "execute_result"
    }
   ],
   "source": [
    "# getting descriptive statistics of numvotes\n",
    "movie_ratings_df['numvotes'].describe()"
   ]
  },
  {
   "cell_type": "markdown",
   "metadata": {},
   "source": [
    "### Merging"
   ]
  },
  {
   "cell_type": "markdown",
   "metadata": {},
   "source": [
    "I saw that the numvotes column contained some outliers which I would have to deal with along the way. At this point I thought it best to merge the two tables from the imdb database in order to assign the average ratings to specific movies.\n"
   ]
  },
  {
   "cell_type": "code",
   "execution_count": 10,
   "metadata": {},
   "outputs": [
    {
     "data": {
      "text/html": [
       "<div>\n",
       "<style scoped>\n",
       "    .dataframe tbody tr th:only-of-type {\n",
       "        vertical-align: middle;\n",
       "    }\n",
       "\n",
       "    .dataframe tbody tr th {\n",
       "        vertical-align: top;\n",
       "    }\n",
       "\n",
       "    .dataframe thead th {\n",
       "        text-align: right;\n",
       "    }\n",
       "</style>\n",
       "<table border=\"1\" class=\"dataframe\">\n",
       "  <thead>\n",
       "    <tr style=\"text-align: right;\">\n",
       "      <th></th>\n",
       "      <th>movie_id</th>\n",
       "      <th>primary_title</th>\n",
       "      <th>original_title</th>\n",
       "      <th>start_year</th>\n",
       "      <th>runtime_minutes</th>\n",
       "      <th>genres</th>\n",
       "      <th>averagerating</th>\n",
       "      <th>numvotes</th>\n",
       "    </tr>\n",
       "  </thead>\n",
       "  <tbody>\n",
       "    <tr>\n",
       "      <th>0</th>\n",
       "      <td>tt0063540</td>\n",
       "      <td>Sunghursh</td>\n",
       "      <td>Sunghursh</td>\n",
       "      <td>2013</td>\n",
       "      <td>175.00</td>\n",
       "      <td>Action,Crime,Drama</td>\n",
       "      <td>7.00</td>\n",
       "      <td>77.00</td>\n",
       "    </tr>\n",
       "    <tr>\n",
       "      <th>1</th>\n",
       "      <td>tt0066787</td>\n",
       "      <td>One Day Before the Rainy Season</td>\n",
       "      <td>Ashad Ka Ek Din</td>\n",
       "      <td>2019</td>\n",
       "      <td>114.00</td>\n",
       "      <td>Biography,Drama</td>\n",
       "      <td>7.20</td>\n",
       "      <td>43.00</td>\n",
       "    </tr>\n",
       "    <tr>\n",
       "      <th>2</th>\n",
       "      <td>tt0069049</td>\n",
       "      <td>The Other Side of the Wind</td>\n",
       "      <td>The Other Side of the Wind</td>\n",
       "      <td>2018</td>\n",
       "      <td>122.00</td>\n",
       "      <td>Drama</td>\n",
       "      <td>6.90</td>\n",
       "      <td>4517.00</td>\n",
       "    </tr>\n",
       "    <tr>\n",
       "      <th>3</th>\n",
       "      <td>tt0069204</td>\n",
       "      <td>Sabse Bada Sukh</td>\n",
       "      <td>Sabse Bada Sukh</td>\n",
       "      <td>2018</td>\n",
       "      <td>nan</td>\n",
       "      <td>Comedy,Drama</td>\n",
       "      <td>6.10</td>\n",
       "      <td>13.00</td>\n",
       "    </tr>\n",
       "    <tr>\n",
       "      <th>4</th>\n",
       "      <td>tt0100275</td>\n",
       "      <td>The Wandering Soap Opera</td>\n",
       "      <td>La Telenovela Errante</td>\n",
       "      <td>2017</td>\n",
       "      <td>80.00</td>\n",
       "      <td>Comedy,Drama,Fantasy</td>\n",
       "      <td>6.50</td>\n",
       "      <td>119.00</td>\n",
       "    </tr>\n",
       "  </tbody>\n",
       "</table>\n",
       "</div>"
      ],
      "text/plain": [
       "    movie_id                    primary_title              original_title  \\\n",
       "0  tt0063540                        Sunghursh                   Sunghursh   \n",
       "1  tt0066787  One Day Before the Rainy Season             Ashad Ka Ek Din   \n",
       "2  tt0069049       The Other Side of the Wind  The Other Side of the Wind   \n",
       "3  tt0069204                  Sabse Bada Sukh             Sabse Bada Sukh   \n",
       "4  tt0100275         The Wandering Soap Opera       La Telenovela Errante   \n",
       "\n",
       "   start_year  runtime_minutes                genres  averagerating  numvotes  \n",
       "0        2013           175.00    Action,Crime,Drama           7.00     77.00  \n",
       "1        2019           114.00       Biography,Drama           7.20     43.00  \n",
       "2        2018           122.00                 Drama           6.90   4517.00  \n",
       "3        2018              nan          Comedy,Drama           6.10     13.00  \n",
       "4        2017            80.00  Comedy,Drama,Fantasy           6.50    119.00  "
      ]
     },
     "execution_count": 10,
     "metadata": {},
     "output_type": "execute_result"
    }
   ],
   "source": [
    "# merging the movie basics dataframe and the movie ratings dataframe to\n",
    "# link movie titles and genres and their respective rating\n",
    "imdb_merged_df = pd.merge(movie_basics_df, movie_ratings_df, how = 'outer')\n",
    "# previewing the top 5 results\n",
    "imdb_merged_df.head()"
   ]
  },
  {
   "cell_type": "code",
   "execution_count": 11,
   "metadata": {},
   "outputs": [
    {
     "name": "stdout",
     "output_type": "stream",
     "text": [
      "<class 'pandas.core.frame.DataFrame'>\n",
      "Int64Index: 146144 entries, 0 to 146143\n",
      "Data columns (total 8 columns):\n",
      " #   Column           Non-Null Count   Dtype  \n",
      "---  ------           --------------   -----  \n",
      " 0   movie_id         146144 non-null  object \n",
      " 1   primary_title    146144 non-null  object \n",
      " 2   original_title   146123 non-null  object \n",
      " 3   start_year       146144 non-null  int64  \n",
      " 4   runtime_minutes  114405 non-null  float64\n",
      " 5   genres           140736 non-null  object \n",
      " 6   averagerating    73856 non-null   float64\n",
      " 7   numvotes         73856 non-null   float64\n",
      "dtypes: float64(3), int64(1), object(4)\n",
      "memory usage: 10.0+ MB\n"
     ]
    }
   ],
   "source": [
    "# assessing dataframe info\n",
    "imdb_merged_df.info()"
   ]
  },
  {
   "cell_type": "markdown",
   "metadata": {},
   "source": [
    "### Cleaning"
   ]
  },
  {
   "cell_type": "markdown",
   "metadata": {},
   "source": [
    "I decided to deal with duplicate values with the same primary title, genre and start year so as to make the data less murky."
   ]
  },
  {
   "cell_type": "code",
   "execution_count": 12,
   "metadata": {},
   "outputs": [
    {
     "data": {
      "text/html": [
       "<div>\n",
       "<style scoped>\n",
       "    .dataframe tbody tr th:only-of-type {\n",
       "        vertical-align: middle;\n",
       "    }\n",
       "\n",
       "    .dataframe tbody tr th {\n",
       "        vertical-align: top;\n",
       "    }\n",
       "\n",
       "    .dataframe thead th {\n",
       "        text-align: right;\n",
       "    }\n",
       "</style>\n",
       "<table border=\"1\" class=\"dataframe\">\n",
       "  <thead>\n",
       "    <tr style=\"text-align: right;\">\n",
       "      <th></th>\n",
       "      <th>movie_id</th>\n",
       "      <th>primary_title</th>\n",
       "      <th>original_title</th>\n",
       "      <th>start_year</th>\n",
       "      <th>runtime_minutes</th>\n",
       "      <th>genres</th>\n",
       "      <th>averagerating</th>\n",
       "      <th>numvotes</th>\n",
       "    </tr>\n",
       "  </thead>\n",
       "  <tbody>\n",
       "    <tr>\n",
       "      <th>948</th>\n",
       "      <td>tt10064536</td>\n",
       "      <td>Untitled Disney Marvel Film</td>\n",
       "      <td>Untitled Disney Marvel Film</td>\n",
       "      <td>2022</td>\n",
       "      <td>nan</td>\n",
       "      <td>Action</td>\n",
       "      <td>nan</td>\n",
       "      <td>nan</td>\n",
       "    </tr>\n",
       "    <tr>\n",
       "      <th>949</th>\n",
       "      <td>tt10064558</td>\n",
       "      <td>Untitled Marvel Film</td>\n",
       "      <td>Untitled Marvel Film</td>\n",
       "      <td>2021</td>\n",
       "      <td>nan</td>\n",
       "      <td>Action</td>\n",
       "      <td>nan</td>\n",
       "      <td>nan</td>\n",
       "    </tr>\n",
       "    <tr>\n",
       "      <th>1478</th>\n",
       "      <td>tt10127292</td>\n",
       "      <td>Plushtubers: The Apocalypse</td>\n",
       "      <td>Plushtubers: The Apocalypse</td>\n",
       "      <td>2019</td>\n",
       "      <td>nan</td>\n",
       "      <td>Action,Adventure</td>\n",
       "      <td>nan</td>\n",
       "      <td>nan</td>\n",
       "    </tr>\n",
       "    <tr>\n",
       "      <th>2231</th>\n",
       "      <td>tt10224422</td>\n",
       "      <td>Olanda</td>\n",
       "      <td>Olanda</td>\n",
       "      <td>2019</td>\n",
       "      <td>154.00</td>\n",
       "      <td>Documentary</td>\n",
       "      <td>nan</td>\n",
       "      <td>nan</td>\n",
       "    </tr>\n",
       "    <tr>\n",
       "      <th>2286</th>\n",
       "      <td>tt10230042</td>\n",
       "      <td>Rok Sako To Rok Lo</td>\n",
       "      <td>Rok Sako To Rok Lo</td>\n",
       "      <td>2018</td>\n",
       "      <td>nan</td>\n",
       "      <td>Comedy</td>\n",
       "      <td>nan</td>\n",
       "      <td>nan</td>\n",
       "    </tr>\n",
       "    <tr>\n",
       "      <th>...</th>\n",
       "      <td>...</td>\n",
       "      <td>...</td>\n",
       "      <td>...</td>\n",
       "      <td>...</td>\n",
       "      <td>...</td>\n",
       "      <td>...</td>\n",
       "      <td>...</td>\n",
       "      <td>...</td>\n",
       "    </tr>\n",
       "    <tr>\n",
       "      <th>145222</th>\n",
       "      <td>tt9786006</td>\n",
       "      <td>Waiting for the Carnival</td>\n",
       "      <td>Waiting for the Carnival</td>\n",
       "      <td>2019</td>\n",
       "      <td>76.00</td>\n",
       "      <td>Documentary</td>\n",
       "      <td>nan</td>\n",
       "      <td>nan</td>\n",
       "    </tr>\n",
       "    <tr>\n",
       "      <th>145459</th>\n",
       "      <td>tt9819724</td>\n",
       "      <td>The Tale of Two Deaf Travellers</td>\n",
       "      <td>The Tale of Two Deaf Travellers</td>\n",
       "      <td>2018</td>\n",
       "      <td>5.00</td>\n",
       "      <td>Adventure,Biography,Documentary</td>\n",
       "      <td>nan</td>\n",
       "      <td>nan</td>\n",
       "    </tr>\n",
       "    <tr>\n",
       "      <th>145559</th>\n",
       "      <td>tt9838402</td>\n",
       "      <td>Furie</td>\n",
       "      <td>Furie</td>\n",
       "      <td>2019</td>\n",
       "      <td>nan</td>\n",
       "      <td>Action</td>\n",
       "      <td>nan</td>\n",
       "      <td>nan</td>\n",
       "    </tr>\n",
       "    <tr>\n",
       "      <th>145903</th>\n",
       "      <td>tt9883728</td>\n",
       "      <td>Congo, My Precious</td>\n",
       "      <td>Congo, My Precious</td>\n",
       "      <td>2017</td>\n",
       "      <td>nan</td>\n",
       "      <td>Documentary</td>\n",
       "      <td>nan</td>\n",
       "      <td>nan</td>\n",
       "    </tr>\n",
       "    <tr>\n",
       "      <th>145937</th>\n",
       "      <td>tt9889072</td>\n",
       "      <td>The Promise</td>\n",
       "      <td>The Promise</td>\n",
       "      <td>2017</td>\n",
       "      <td>nan</td>\n",
       "      <td>Drama</td>\n",
       "      <td>nan</td>\n",
       "      <td>nan</td>\n",
       "    </tr>\n",
       "  </tbody>\n",
       "</table>\n",
       "<p>355 rows × 8 columns</p>\n",
       "</div>"
      ],
      "text/plain": [
       "          movie_id                    primary_title  \\\n",
       "948     tt10064536      Untitled Disney Marvel Film   \n",
       "949     tt10064558             Untitled Marvel Film   \n",
       "1478    tt10127292      Plushtubers: The Apocalypse   \n",
       "2231    tt10224422                           Olanda   \n",
       "2286    tt10230042               Rok Sako To Rok Lo   \n",
       "...            ...                              ...   \n",
       "145222   tt9786006         Waiting for the Carnival   \n",
       "145459   tt9819724  The Tale of Two Deaf Travellers   \n",
       "145559   tt9838402                            Furie   \n",
       "145903   tt9883728               Congo, My Precious   \n",
       "145937   tt9889072                      The Promise   \n",
       "\n",
       "                         original_title  start_year  runtime_minutes  \\\n",
       "948         Untitled Disney Marvel Film        2022              nan   \n",
       "949                Untitled Marvel Film        2021              nan   \n",
       "1478        Plushtubers: The Apocalypse        2019              nan   \n",
       "2231                             Olanda        2019           154.00   \n",
       "2286                 Rok Sako To Rok Lo        2018              nan   \n",
       "...                                 ...         ...              ...   \n",
       "145222         Waiting for the Carnival        2019            76.00   \n",
       "145459  The Tale of Two Deaf Travellers        2018             5.00   \n",
       "145559                            Furie        2019              nan   \n",
       "145903               Congo, My Precious        2017              nan   \n",
       "145937                      The Promise        2017              nan   \n",
       "\n",
       "                                 genres  averagerating  numvotes  \n",
       "948                              Action            nan       nan  \n",
       "949                              Action            nan       nan  \n",
       "1478                   Action,Adventure            nan       nan  \n",
       "2231                        Documentary            nan       nan  \n",
       "2286                             Comedy            nan       nan  \n",
       "...                                 ...            ...       ...  \n",
       "145222                      Documentary            nan       nan  \n",
       "145459  Adventure,Biography,Documentary            nan       nan  \n",
       "145559                           Action            nan       nan  \n",
       "145903                      Documentary            nan       nan  \n",
       "145937                            Drama            nan       nan  \n",
       "\n",
       "[355 rows x 8 columns]"
      ]
     },
     "execution_count": 12,
     "metadata": {},
     "output_type": "execute_result"
    }
   ],
   "source": [
    "# looking for duplicate values in relation to the primary title, start year and genres\n",
    "imdb_merged_df.loc[imdb_merged_df.duplicated(subset = ['primary_title', 'start_year', 'genres'])]"
   ]
  },
  {
   "cell_type": "code",
   "execution_count": 13,
   "metadata": {},
   "outputs": [
    {
     "data": {
      "text/html": [
       "<div>\n",
       "<style scoped>\n",
       "    .dataframe tbody tr th:only-of-type {\n",
       "        vertical-align: middle;\n",
       "    }\n",
       "\n",
       "    .dataframe tbody tr th {\n",
       "        vertical-align: top;\n",
       "    }\n",
       "\n",
       "    .dataframe thead th {\n",
       "        text-align: right;\n",
       "    }\n",
       "</style>\n",
       "<table border=\"1\" class=\"dataframe\">\n",
       "  <thead>\n",
       "    <tr style=\"text-align: right;\">\n",
       "      <th></th>\n",
       "      <th>movie_id</th>\n",
       "      <th>primary_title</th>\n",
       "      <th>original_title</th>\n",
       "      <th>start_year</th>\n",
       "      <th>runtime_minutes</th>\n",
       "      <th>genres</th>\n",
       "      <th>averagerating</th>\n",
       "      <th>numvotes</th>\n",
       "    </tr>\n",
       "  </thead>\n",
       "  <tbody>\n",
       "    <tr>\n",
       "      <th>2001</th>\n",
       "      <td>tt10195890</td>\n",
       "      <td>Olanda</td>\n",
       "      <td>Olanda</td>\n",
       "      <td>2019</td>\n",
       "      <td>154.00</td>\n",
       "      <td>Documentary</td>\n",
       "      <td>nan</td>\n",
       "      <td>nan</td>\n",
       "    </tr>\n",
       "    <tr>\n",
       "      <th>2231</th>\n",
       "      <td>tt10224422</td>\n",
       "      <td>Olanda</td>\n",
       "      <td>Olanda</td>\n",
       "      <td>2019</td>\n",
       "      <td>154.00</td>\n",
       "      <td>Documentary</td>\n",
       "      <td>nan</td>\n",
       "      <td>nan</td>\n",
       "    </tr>\n",
       "  </tbody>\n",
       "</table>\n",
       "</div>"
      ],
      "text/plain": [
       "        movie_id primary_title original_title  start_year  runtime_minutes  \\\n",
       "2001  tt10195890        Olanda         Olanda        2019           154.00   \n",
       "2231  tt10224422        Olanda         Olanda        2019           154.00   \n",
       "\n",
       "           genres  averagerating  numvotes  \n",
       "2001  Documentary            nan       nan  \n",
       "2231  Documentary            nan       nan  "
      ]
     },
     "execution_count": 13,
     "metadata": {},
     "output_type": "execute_result"
    }
   ],
   "source": [
    "# confirming duplicates have same start year, primary titles and genres\n",
    "imdb_merged_df.loc[imdb_merged_df['primary_title'] == 'Olanda']"
   ]
  },
  {
   "cell_type": "code",
   "execution_count": 14,
   "metadata": {},
   "outputs": [
    {
     "data": {
      "text/html": [
       "<div>\n",
       "<style scoped>\n",
       "    .dataframe tbody tr th:only-of-type {\n",
       "        vertical-align: middle;\n",
       "    }\n",
       "\n",
       "    .dataframe tbody tr th {\n",
       "        vertical-align: top;\n",
       "    }\n",
       "\n",
       "    .dataframe thead th {\n",
       "        text-align: right;\n",
       "    }\n",
       "</style>\n",
       "<table border=\"1\" class=\"dataframe\">\n",
       "  <thead>\n",
       "    <tr style=\"text-align: right;\">\n",
       "      <th></th>\n",
       "      <th>movie_id</th>\n",
       "      <th>primary_title</th>\n",
       "      <th>original_title</th>\n",
       "      <th>start_year</th>\n",
       "      <th>runtime_minutes</th>\n",
       "      <th>genres</th>\n",
       "      <th>averagerating</th>\n",
       "      <th>numvotes</th>\n",
       "    </tr>\n",
       "  </thead>\n",
       "  <tbody>\n",
       "    <tr>\n",
       "      <th>142723</th>\n",
       "      <td>tt9412268</td>\n",
       "      <td>Furie</td>\n",
       "      <td>Hai Phuong</td>\n",
       "      <td>2019</td>\n",
       "      <td>98.00</td>\n",
       "      <td>Action</td>\n",
       "      <td>6.70</td>\n",
       "      <td>1188.00</td>\n",
       "    </tr>\n",
       "    <tr>\n",
       "      <th>145559</th>\n",
       "      <td>tt9838402</td>\n",
       "      <td>Furie</td>\n",
       "      <td>Furie</td>\n",
       "      <td>2019</td>\n",
       "      <td>nan</td>\n",
       "      <td>Action</td>\n",
       "      <td>nan</td>\n",
       "      <td>nan</td>\n",
       "    </tr>\n",
       "  </tbody>\n",
       "</table>\n",
       "</div>"
      ],
      "text/plain": [
       "         movie_id primary_title original_title  start_year  runtime_minutes  \\\n",
       "142723  tt9412268         Furie     Hai Phuong        2019            98.00   \n",
       "145559  tt9838402         Furie          Furie        2019              nan   \n",
       "\n",
       "        genres  averagerating  numvotes  \n",
       "142723  Action           6.70   1188.00  \n",
       "145559  Action            nan       nan  "
      ]
     },
     "execution_count": 14,
     "metadata": {},
     "output_type": "execute_result"
    }
   ],
   "source": [
    "# confirming duplicates have same start year, primary titles and genres\n",
    "imdb_merged_df.loc[imdb_merged_df['primary_title'] == 'Furie']"
   ]
  },
  {
   "cell_type": "markdown",
   "metadata": {},
   "source": [
    "Since the main aim was to retain only entries with genre values, I decided to drop duplicates with null values."
   ]
  },
  {
   "cell_type": "code",
   "execution_count": 15,
   "metadata": {},
   "outputs": [],
   "source": [
    "# dropping duplicate values\n",
    "imdb_merged_df.drop_duplicates(subset=['primary_title', 'start_year', 'genres'], inplace=True)"
   ]
  },
  {
   "cell_type": "code",
   "execution_count": 16,
   "metadata": {},
   "outputs": [
    {
     "name": "stdout",
     "output_type": "stream",
     "text": [
      "<class 'pandas.core.frame.DataFrame'>\n",
      "Int64Index: 145789 entries, 0 to 146143\n",
      "Data columns (total 8 columns):\n",
      " #   Column           Non-Null Count   Dtype  \n",
      "---  ------           --------------   -----  \n",
      " 0   movie_id         145789 non-null  object \n",
      " 1   primary_title    145789 non-null  object \n",
      " 2   original_title   145768 non-null  object \n",
      " 3   start_year       145789 non-null  int64  \n",
      " 4   runtime_minutes  114145 non-null  float64\n",
      " 5   genres           140398 non-null  object \n",
      " 6   averagerating    73771 non-null   float64\n",
      " 7   numvotes         73771 non-null   float64\n",
      "dtypes: float64(3), int64(1), object(4)\n",
      "memory usage: 10.0+ MB\n"
     ]
    }
   ],
   "source": [
    "# checking on the status of the remaining columns\n",
    "imdb_merged_df.info()"
   ]
  },
  {
   "cell_type": "markdown",
   "metadata": {},
   "source": [
    "Now was the time to get rid of unwanted columns to zero in on the target data. I opted to drop the numvotes,start_year,original_title, movie_id columns and runtime_minutes as they would not be relevant to my analysis targets."
   ]
  },
  {
   "cell_type": "code",
   "execution_count": 17,
   "metadata": {},
   "outputs": [],
   "source": [
    "# declaring columns to drop in a list\n",
    "to_drop = ['numvotes', 'start_year', 'original_title', 'movie_id', 'runtime_minutes']\n",
    "# dropping listed columns\n",
    "imdb_merged_df.drop(columns = to_drop, axis=1, inplace=True)"
   ]
  },
  {
   "cell_type": "code",
   "execution_count": 18,
   "metadata": {},
   "outputs": [
    {
     "data": {
      "text/plain": [
       "Index(['primary_title', 'genres', 'averagerating'], dtype='object')"
      ]
     },
     "execution_count": 18,
     "metadata": {},
     "output_type": "execute_result"
    }
   ],
   "source": [
    "# previewing dataframe columns\n",
    "imdb_merged_df.columns"
   ]
  },
  {
   "cell_type": "code",
   "execution_count": 19,
   "metadata": {},
   "outputs": [
    {
     "data": {
      "text/html": [
       "<div>\n",
       "<style scoped>\n",
       "    .dataframe tbody tr th:only-of-type {\n",
       "        vertical-align: middle;\n",
       "    }\n",
       "\n",
       "    .dataframe tbody tr th {\n",
       "        vertical-align: top;\n",
       "    }\n",
       "\n",
       "    .dataframe thead th {\n",
       "        text-align: right;\n",
       "    }\n",
       "</style>\n",
       "<table border=\"1\" class=\"dataframe\">\n",
       "  <thead>\n",
       "    <tr style=\"text-align: right;\">\n",
       "      <th></th>\n",
       "      <th>title</th>\n",
       "      <th>genres</th>\n",
       "      <th>rating</th>\n",
       "    </tr>\n",
       "  </thead>\n",
       "  <tbody>\n",
       "    <tr>\n",
       "      <th>0</th>\n",
       "      <td>Sunghursh</td>\n",
       "      <td>Action,Crime,Drama</td>\n",
       "      <td>7.00</td>\n",
       "    </tr>\n",
       "    <tr>\n",
       "      <th>1</th>\n",
       "      <td>One Day Before the Rainy Season</td>\n",
       "      <td>Biography,Drama</td>\n",
       "      <td>7.20</td>\n",
       "    </tr>\n",
       "    <tr>\n",
       "      <th>2</th>\n",
       "      <td>The Other Side of the Wind</td>\n",
       "      <td>Drama</td>\n",
       "      <td>6.90</td>\n",
       "    </tr>\n",
       "    <tr>\n",
       "      <th>3</th>\n",
       "      <td>Sabse Bada Sukh</td>\n",
       "      <td>Comedy,Drama</td>\n",
       "      <td>6.10</td>\n",
       "    </tr>\n",
       "    <tr>\n",
       "      <th>4</th>\n",
       "      <td>The Wandering Soap Opera</td>\n",
       "      <td>Comedy,Drama,Fantasy</td>\n",
       "      <td>6.50</td>\n",
       "    </tr>\n",
       "  </tbody>\n",
       "</table>\n",
       "</div>"
      ],
      "text/plain": [
       "                             title                genres  rating\n",
       "0                        Sunghursh    Action,Crime,Drama    7.00\n",
       "1  One Day Before the Rainy Season       Biography,Drama    7.20\n",
       "2       The Other Side of the Wind                 Drama    6.90\n",
       "3                  Sabse Bada Sukh          Comedy,Drama    6.10\n",
       "4         The Wandering Soap Opera  Comedy,Drama,Fantasy    6.50"
      ]
     },
     "execution_count": 19,
     "metadata": {},
     "output_type": "execute_result"
    }
   ],
   "source": [
    "# renaming the averagerating column to rating \n",
    "imdb_merged_df = imdb_merged_df.rename(columns = {'averagerating': 'rating','primary_title': 'title'}) \n",
    "# previewing first 5 results\n",
    "imdb_merged_df.head()"
   ]
  },
  {
   "cell_type": "markdown",
   "metadata": {},
   "source": [
    "The next step was to eliminate null values in the rating and genres columns as these would affect our analysis."
   ]
  },
  {
   "cell_type": "code",
   "execution_count": 20,
   "metadata": {},
   "outputs": [
    {
     "data": {
      "text/plain": [
       "title         0\n",
       "genres     5391\n",
       "rating    72018\n",
       "dtype: int64"
      ]
     },
     "execution_count": 20,
     "metadata": {},
     "output_type": "execute_result"
    }
   ],
   "source": [
    "# checking for null values in order to remove them\n",
    "imdb_merged_df.isna().sum()"
   ]
  },
  {
   "cell_type": "code",
   "execution_count": 21,
   "metadata": {},
   "outputs": [],
   "source": [
    "# dropping rows containing null values\n",
    "imdb_merged_df.dropna(subset=['genres', 'rating'], inplace=True)"
   ]
  },
  {
   "cell_type": "code",
   "execution_count": 22,
   "metadata": {},
   "outputs": [
    {
     "data": {
      "text/plain": [
       "title     0\n",
       "genres    0\n",
       "rating    0\n",
       "dtype: int64"
      ]
     },
     "execution_count": 22,
     "metadata": {},
     "output_type": "execute_result"
    }
   ],
   "source": [
    "# confirming our data is now free of null values\n",
    "imdb_merged_df.isna().sum()"
   ]
  },
  {
   "cell_type": "code",
   "execution_count": 23,
   "metadata": {},
   "outputs": [
    {
     "name": "stdout",
     "output_type": "stream",
     "text": [
      "<class 'pandas.core.frame.DataFrame'>\n",
      "Int64Index: 72967 entries, 0 to 146134\n",
      "Data columns (total 3 columns):\n",
      " #   Column  Non-Null Count  Dtype  \n",
      "---  ------  --------------  -----  \n",
      " 0   title   72967 non-null  object \n",
      " 1   genres  72967 non-null  object \n",
      " 2   rating  72967 non-null  float64\n",
      "dtypes: float64(1), object(2)\n",
      "memory usage: 2.2+ MB\n"
     ]
    }
   ],
   "source": [
    "#final check of the dataframe columns to confirm no missing values\n",
    "imdb_merged_df.info()"
   ]
  },
  {
   "cell_type": "code",
   "execution_count": 24,
   "metadata": {},
   "outputs": [],
   "source": [
    "#saving the dataframe in current directory as a csv file\n",
    "imdb_merged_df.to_csv('./imdb_merged_df.csv')"
   ]
  },
  {
   "cell_type": "markdown",
   "metadata": {},
   "source": [
    "### Box Office Mojo (BOM)"
   ]
  },
  {
   "cell_type": "markdown",
   "metadata": {},
   "source": [
    "I decided to look into the Box Office Mojo (bom) movie gross dataset to see what additional insights I would gain."
   ]
  },
  {
   "cell_type": "code",
   "execution_count": 25,
   "metadata": {},
   "outputs": [
    {
     "data": {
      "text/html": [
       "<div>\n",
       "<style scoped>\n",
       "    .dataframe tbody tr th:only-of-type {\n",
       "        vertical-align: middle;\n",
       "    }\n",
       "\n",
       "    .dataframe tbody tr th {\n",
       "        vertical-align: top;\n",
       "    }\n",
       "\n",
       "    .dataframe thead th {\n",
       "        text-align: right;\n",
       "    }\n",
       "</style>\n",
       "<table border=\"1\" class=\"dataframe\">\n",
       "  <thead>\n",
       "    <tr style=\"text-align: right;\">\n",
       "      <th></th>\n",
       "      <th>title</th>\n",
       "      <th>studio</th>\n",
       "      <th>domestic_gross</th>\n",
       "      <th>foreign_gross</th>\n",
       "      <th>year</th>\n",
       "    </tr>\n",
       "  </thead>\n",
       "  <tbody>\n",
       "    <tr>\n",
       "      <th>0</th>\n",
       "      <td>Toy Story 3</td>\n",
       "      <td>BV</td>\n",
       "      <td>415000000.00</td>\n",
       "      <td>652000000</td>\n",
       "      <td>2010</td>\n",
       "    </tr>\n",
       "    <tr>\n",
       "      <th>1</th>\n",
       "      <td>Alice in Wonderland (2010)</td>\n",
       "      <td>BV</td>\n",
       "      <td>334200000.00</td>\n",
       "      <td>691300000</td>\n",
       "      <td>2010</td>\n",
       "    </tr>\n",
       "    <tr>\n",
       "      <th>2</th>\n",
       "      <td>Harry Potter and the Deathly Hallows Part 1</td>\n",
       "      <td>WB</td>\n",
       "      <td>296000000.00</td>\n",
       "      <td>664300000</td>\n",
       "      <td>2010</td>\n",
       "    </tr>\n",
       "    <tr>\n",
       "      <th>3</th>\n",
       "      <td>Inception</td>\n",
       "      <td>WB</td>\n",
       "      <td>292600000.00</td>\n",
       "      <td>535700000</td>\n",
       "      <td>2010</td>\n",
       "    </tr>\n",
       "    <tr>\n",
       "      <th>4</th>\n",
       "      <td>Shrek Forever After</td>\n",
       "      <td>P/DW</td>\n",
       "      <td>238700000.00</td>\n",
       "      <td>513900000</td>\n",
       "      <td>2010</td>\n",
       "    </tr>\n",
       "  </tbody>\n",
       "</table>\n",
       "</div>"
      ],
      "text/plain": [
       "                                         title studio  domestic_gross  \\\n",
       "0                                  Toy Story 3     BV    415000000.00   \n",
       "1                   Alice in Wonderland (2010)     BV    334200000.00   \n",
       "2  Harry Potter and the Deathly Hallows Part 1     WB    296000000.00   \n",
       "3                                    Inception     WB    292600000.00   \n",
       "4                          Shrek Forever After   P/DW    238700000.00   \n",
       "\n",
       "  foreign_gross  year  \n",
       "0     652000000  2010  \n",
       "1     691300000  2010  \n",
       "2     664300000  2010  \n",
       "3     535700000  2010  \n",
       "4     513900000  2010  "
      ]
     },
     "execution_count": 25,
     "metadata": {},
     "output_type": "execute_result"
    }
   ],
   "source": [
    "# declaring the file path\n",
    "file_path = r'/Users/claire/Desktop/DS-FT08/Project files/bom.movie_gross.csv'\n",
    "# reading the csv file into a dataframe\n",
    "bom_movie_gross_df = pd.read_csv(file_path)\n",
    "# displaying first five results\n",
    "bom_movie_gross_df.head()"
   ]
  },
  {
   "cell_type": "code",
   "execution_count": 26,
   "metadata": {},
   "outputs": [
    {
     "name": "stdout",
     "output_type": "stream",
     "text": [
      "<class 'pandas.core.frame.DataFrame'>\n",
      "RangeIndex: 3387 entries, 0 to 3386\n",
      "Data columns (total 5 columns):\n",
      " #   Column          Non-Null Count  Dtype  \n",
      "---  ------          --------------  -----  \n",
      " 0   title           3387 non-null   object \n",
      " 1   studio          3382 non-null   object \n",
      " 2   domestic_gross  3359 non-null   float64\n",
      " 3   foreign_gross   2037 non-null   object \n",
      " 4   year            3387 non-null   int64  \n",
      "dtypes: float64(1), int64(1), object(3)\n",
      "memory usage: 132.4+ KB\n"
     ]
    }
   ],
   "source": [
    "# getting information about the dataframe\n",
    "bom_movie_gross_df.info()"
   ]
  },
  {
   "cell_type": "code",
   "execution_count": 27,
   "metadata": {},
   "outputs": [
    {
     "data": {
      "text/plain": [
       "2015    450\n",
       "2016    436\n",
       "2012    400\n",
       "2011    399\n",
       "2014    395\n",
       "2013    350\n",
       "2010    328\n",
       "2017    321\n",
       "2018    308\n",
       "Name: year, dtype: int64"
      ]
     },
     "execution_count": 27,
     "metadata": {},
     "output_type": "execute_result"
    }
   ],
   "source": [
    "# investigating the years the data spans\n",
    "bom_movie_gross_df['year'].value_counts()"
   ]
  },
  {
   "cell_type": "code",
   "execution_count": 28,
   "metadata": {},
   "outputs": [
    {
     "data": {
      "text/plain": [
       "count        3359.00\n",
       "mean     28745845.07\n",
       "std      66982498.24\n",
       "min           100.00\n",
       "25%        120000.00\n",
       "50%       1400000.00\n",
       "75%      27900000.00\n",
       "max     936700000.00\n",
       "Name: domestic_gross, dtype: float64"
      ]
     },
     "execution_count": 28,
     "metadata": {},
     "output_type": "execute_result"
    }
   ],
   "source": [
    "# getting descriptive statistics of the domestic gross column\n",
    "bom_movie_gross_df['domestic_gross'].describe()"
   ]
  },
  {
   "cell_type": "code",
   "execution_count": 29,
   "metadata": {},
   "outputs": [
    {
     "data": {
      "text/plain": [
       "count        2037\n",
       "unique       1204\n",
       "top       1200000\n",
       "freq           23\n",
       "Name: foreign_gross, dtype: object"
      ]
     },
     "execution_count": 29,
     "metadata": {},
     "output_type": "execute_result"
    }
   ],
   "source": [
    "# getting descriptive statistics of the foreign gross column\n",
    "bom_movie_gross_df['foreign_gross'].describe()"
   ]
  },
  {
   "cell_type": "markdown",
   "metadata": {},
   "source": [
    "### Cleaning"
   ]
  },
  {
   "cell_type": "markdown",
   "metadata": {},
   "source": [
    "Upon realizing that data in the foreign gross column was of the type object, I got to changing its format to float64 after stripping any unneccesary commas present in some of the values."
   ]
  },
  {
   "cell_type": "code",
   "execution_count": 30,
   "metadata": {},
   "outputs": [],
   "source": [
    "# converting data type from object to float64\n",
    "bom_movie_gross_df['foreign_gross'] = bom_movie_gross_df['foreign_gross'].str.replace(',', '').astype(float)"
   ]
  },
  {
   "cell_type": "code",
   "execution_count": 31,
   "metadata": {},
   "outputs": [
    {
     "data": {
      "text/plain": [
       "title              object\n",
       "studio             object\n",
       "domestic_gross    float64\n",
       "foreign_gross     float64\n",
       "year                int64\n",
       "dtype: object"
      ]
     },
     "execution_count": 31,
     "metadata": {},
     "output_type": "execute_result"
    }
   ],
   "source": [
    "# confirming data type has changed to float64\n",
    "bom_movie_gross_df.dtypes"
   ]
  },
  {
   "cell_type": "code",
   "execution_count": 32,
   "metadata": {},
   "outputs": [
    {
     "data": {
      "text/plain": [
       "count        2037.00\n",
       "mean     74872810.15\n",
       "std     137410600.84\n",
       "min           600.00\n",
       "25%       3700000.00\n",
       "50%      18700000.00\n",
       "75%      74900000.00\n",
       "max     960500000.00\n",
       "Name: foreign_gross, dtype: float64"
      ]
     },
     "execution_count": 32,
     "metadata": {},
     "output_type": "execute_result"
    }
   ],
   "source": [
    "# getting descriptive statistics of the foreign gross column\n",
    "bom_movie_gross_df['foreign_gross'].describe()"
   ]
  },
  {
   "cell_type": "markdown",
   "metadata": {},
   "source": [
    "I decided to do away with the studio column and rename the year column to release_year\n"
   ]
  },
  {
   "cell_type": "code",
   "execution_count": 33,
   "metadata": {},
   "outputs": [
    {
     "data": {
      "text/html": [
       "<div>\n",
       "<style scoped>\n",
       "    .dataframe tbody tr th:only-of-type {\n",
       "        vertical-align: middle;\n",
       "    }\n",
       "\n",
       "    .dataframe tbody tr th {\n",
       "        vertical-align: top;\n",
       "    }\n",
       "\n",
       "    .dataframe thead th {\n",
       "        text-align: right;\n",
       "    }\n",
       "</style>\n",
       "<table border=\"1\" class=\"dataframe\">\n",
       "  <thead>\n",
       "    <tr style=\"text-align: right;\">\n",
       "      <th></th>\n",
       "      <th>title</th>\n",
       "      <th>domestic_gross</th>\n",
       "      <th>foreign_gross</th>\n",
       "      <th>year</th>\n",
       "    </tr>\n",
       "  </thead>\n",
       "  <tbody>\n",
       "    <tr>\n",
       "      <th>0</th>\n",
       "      <td>Toy Story 3</td>\n",
       "      <td>415000000.00</td>\n",
       "      <td>652000000.00</td>\n",
       "      <td>2010</td>\n",
       "    </tr>\n",
       "    <tr>\n",
       "      <th>1</th>\n",
       "      <td>Alice in Wonderland (2010)</td>\n",
       "      <td>334200000.00</td>\n",
       "      <td>691300000.00</td>\n",
       "      <td>2010</td>\n",
       "    </tr>\n",
       "    <tr>\n",
       "      <th>2</th>\n",
       "      <td>Harry Potter and the Deathly Hallows Part 1</td>\n",
       "      <td>296000000.00</td>\n",
       "      <td>664300000.00</td>\n",
       "      <td>2010</td>\n",
       "    </tr>\n",
       "    <tr>\n",
       "      <th>3</th>\n",
       "      <td>Inception</td>\n",
       "      <td>292600000.00</td>\n",
       "      <td>535700000.00</td>\n",
       "      <td>2010</td>\n",
       "    </tr>\n",
       "    <tr>\n",
       "      <th>4</th>\n",
       "      <td>Shrek Forever After</td>\n",
       "      <td>238700000.00</td>\n",
       "      <td>513900000.00</td>\n",
       "      <td>2010</td>\n",
       "    </tr>\n",
       "  </tbody>\n",
       "</table>\n",
       "</div>"
      ],
      "text/plain": [
       "                                         title  domestic_gross  foreign_gross  \\\n",
       "0                                  Toy Story 3    415000000.00   652000000.00   \n",
       "1                   Alice in Wonderland (2010)    334200000.00   691300000.00   \n",
       "2  Harry Potter and the Deathly Hallows Part 1    296000000.00   664300000.00   \n",
       "3                                    Inception    292600000.00   535700000.00   \n",
       "4                          Shrek Forever After    238700000.00   513900000.00   \n",
       "\n",
       "   year  \n",
       "0  2010  \n",
       "1  2010  \n",
       "2  2010  \n",
       "3  2010  \n",
       "4  2010  "
      ]
     },
     "execution_count": 33,
     "metadata": {},
     "output_type": "execute_result"
    }
   ],
   "source": [
    "# dropping the studio column\n",
    "bom_movie_gross_df.drop('studio' ,axis=1, inplace=True)\n",
    "# previewing first five results of the dataframe\n",
    "bom_movie_gross_df.head()"
   ]
  },
  {
   "cell_type": "code",
   "execution_count": 34,
   "metadata": {},
   "outputs": [
    {
     "data": {
      "text/plain": [
       "Index(['title', 'domestic_gross', 'foreign_gross', 'release_year'], dtype='object')"
      ]
     },
     "execution_count": 34,
     "metadata": {},
     "output_type": "execute_result"
    }
   ],
   "source": [
    "# renaming the year column to release_year\n",
    "bom_movie_gross_df = bom_movie_gross_df.rename(columns = {'year': 'release_year'}) \n",
    "# previewing column names\n",
    "bom_movie_gross_df.columns"
   ]
  },
  {
   "cell_type": "code",
   "execution_count": 35,
   "metadata": {},
   "outputs": [],
   "source": [
    "#picking only films produced after 2015\n",
    "bom_movie_gross_df = bom_movie_gross_df[(bom_movie_gross_df['release_year']>=2015)]"
   ]
  },
  {
   "cell_type": "code",
   "execution_count": 36,
   "metadata": {},
   "outputs": [
    {
     "data": {
      "text/html": [
       "<div>\n",
       "<style scoped>\n",
       "    .dataframe tbody tr th:only-of-type {\n",
       "        vertical-align: middle;\n",
       "    }\n",
       "\n",
       "    .dataframe tbody tr th {\n",
       "        vertical-align: top;\n",
       "    }\n",
       "\n",
       "    .dataframe thead th {\n",
       "        text-align: right;\n",
       "    }\n",
       "</style>\n",
       "<table border=\"1\" class=\"dataframe\">\n",
       "  <thead>\n",
       "    <tr style=\"text-align: right;\">\n",
       "      <th></th>\n",
       "      <th>title</th>\n",
       "      <th>domestic_gross</th>\n",
       "      <th>foreign_gross</th>\n",
       "      <th>release_year</th>\n",
       "    </tr>\n",
       "  </thead>\n",
       "  <tbody>\n",
       "    <tr>\n",
       "      <th>1872</th>\n",
       "      <td>Star Wars: The Force Awakens</td>\n",
       "      <td>936700000.00</td>\n",
       "      <td>1131.60</td>\n",
       "      <td>2015</td>\n",
       "    </tr>\n",
       "    <tr>\n",
       "      <th>1873</th>\n",
       "      <td>Jurassic World</td>\n",
       "      <td>652300000.00</td>\n",
       "      <td>1019.40</td>\n",
       "      <td>2015</td>\n",
       "    </tr>\n",
       "    <tr>\n",
       "      <th>1874</th>\n",
       "      <td>Furious 7</td>\n",
       "      <td>353000000.00</td>\n",
       "      <td>1163.00</td>\n",
       "      <td>2015</td>\n",
       "    </tr>\n",
       "    <tr>\n",
       "      <th>1875</th>\n",
       "      <td>Avengers: Age of Ultron</td>\n",
       "      <td>459000000.00</td>\n",
       "      <td>946400000.00</td>\n",
       "      <td>2015</td>\n",
       "    </tr>\n",
       "    <tr>\n",
       "      <th>1876</th>\n",
       "      <td>Minions</td>\n",
       "      <td>336000000.00</td>\n",
       "      <td>823400000.00</td>\n",
       "      <td>2015</td>\n",
       "    </tr>\n",
       "  </tbody>\n",
       "</table>\n",
       "</div>"
      ],
      "text/plain": [
       "                             title  domestic_gross  foreign_gross  \\\n",
       "1872  Star Wars: The Force Awakens    936700000.00        1131.60   \n",
       "1873                Jurassic World    652300000.00        1019.40   \n",
       "1874                     Furious 7    353000000.00        1163.00   \n",
       "1875       Avengers: Age of Ultron    459000000.00   946400000.00   \n",
       "1876                       Minions    336000000.00   823400000.00   \n",
       "\n",
       "      release_year  \n",
       "1872          2015  \n",
       "1873          2015  \n",
       "1874          2015  \n",
       "1875          2015  \n",
       "1876          2015  "
      ]
     },
     "execution_count": 36,
     "metadata": {},
     "output_type": "execute_result"
    }
   ],
   "source": [
    "# previewing first 5 results\n",
    "bom_movie_gross_df.head()"
   ]
  },
  {
   "cell_type": "code",
   "execution_count": 37,
   "metadata": {},
   "outputs": [],
   "source": [
    "#saving the dataframe in current directory as a csv file\n",
    "bom_movie_gross_df.to_csv('./bom_movie_gross_df.csv')"
   ]
  },
  {
   "cell_type": "markdown",
   "metadata": {},
   "source": [
    "### The Numbers dataset"
   ]
  },
  {
   "cell_type": "markdown",
   "metadata": {},
   "source": [
    "This dataset contained data on the production budget of different movies and how much they grossed domestically and worldwide after the release date. Below is how I went about exploring and cleaning the data."
   ]
  },
  {
   "cell_type": "code",
   "execution_count": 38,
   "metadata": {},
   "outputs": [
    {
     "data": {
      "text/html": [
       "<div>\n",
       "<style scoped>\n",
       "    .dataframe tbody tr th:only-of-type {\n",
       "        vertical-align: middle;\n",
       "    }\n",
       "\n",
       "    .dataframe tbody tr th {\n",
       "        vertical-align: top;\n",
       "    }\n",
       "\n",
       "    .dataframe thead th {\n",
       "        text-align: right;\n",
       "    }\n",
       "</style>\n",
       "<table border=\"1\" class=\"dataframe\">\n",
       "  <thead>\n",
       "    <tr style=\"text-align: right;\">\n",
       "      <th></th>\n",
       "      <th>id</th>\n",
       "      <th>release_date</th>\n",
       "      <th>movie</th>\n",
       "      <th>production_budget</th>\n",
       "      <th>domestic_gross</th>\n",
       "      <th>worldwide_gross</th>\n",
       "    </tr>\n",
       "  </thead>\n",
       "  <tbody>\n",
       "    <tr>\n",
       "      <th>0</th>\n",
       "      <td>1</td>\n",
       "      <td>Dec 18, 2009</td>\n",
       "      <td>Avatar</td>\n",
       "      <td>$425,000,000</td>\n",
       "      <td>$760,507,625</td>\n",
       "      <td>$2,776,345,279</td>\n",
       "    </tr>\n",
       "    <tr>\n",
       "      <th>1</th>\n",
       "      <td>2</td>\n",
       "      <td>May 20, 2011</td>\n",
       "      <td>Pirates of the Caribbean: On Stranger Tides</td>\n",
       "      <td>$410,600,000</td>\n",
       "      <td>$241,063,875</td>\n",
       "      <td>$1,045,663,875</td>\n",
       "    </tr>\n",
       "    <tr>\n",
       "      <th>2</th>\n",
       "      <td>3</td>\n",
       "      <td>Jun 7, 2019</td>\n",
       "      <td>Dark Phoenix</td>\n",
       "      <td>$350,000,000</td>\n",
       "      <td>$42,762,350</td>\n",
       "      <td>$149,762,350</td>\n",
       "    </tr>\n",
       "    <tr>\n",
       "      <th>3</th>\n",
       "      <td>4</td>\n",
       "      <td>May 1, 2015</td>\n",
       "      <td>Avengers: Age of Ultron</td>\n",
       "      <td>$330,600,000</td>\n",
       "      <td>$459,005,868</td>\n",
       "      <td>$1,403,013,963</td>\n",
       "    </tr>\n",
       "    <tr>\n",
       "      <th>4</th>\n",
       "      <td>5</td>\n",
       "      <td>Dec 15, 2017</td>\n",
       "      <td>Star Wars Ep. VIII: The Last Jedi</td>\n",
       "      <td>$317,000,000</td>\n",
       "      <td>$620,181,382</td>\n",
       "      <td>$1,316,721,747</td>\n",
       "    </tr>\n",
       "  </tbody>\n",
       "</table>\n",
       "</div>"
      ],
      "text/plain": [
       "   id  release_date                                        movie  \\\n",
       "0   1  Dec 18, 2009                                       Avatar   \n",
       "1   2  May 20, 2011  Pirates of the Caribbean: On Stranger Tides   \n",
       "2   3   Jun 7, 2019                                 Dark Phoenix   \n",
       "3   4   May 1, 2015                      Avengers: Age of Ultron   \n",
       "4   5  Dec 15, 2017            Star Wars Ep. VIII: The Last Jedi   \n",
       "\n",
       "  production_budget domestic_gross worldwide_gross  \n",
       "0      $425,000,000   $760,507,625  $2,776,345,279  \n",
       "1      $410,600,000   $241,063,875  $1,045,663,875  \n",
       "2      $350,000,000    $42,762,350    $149,762,350  \n",
       "3      $330,600,000   $459,005,868  $1,403,013,963  \n",
       "4      $317,000,000   $620,181,382  $1,316,721,747  "
      ]
     },
     "execution_count": 38,
     "metadata": {},
     "output_type": "execute_result"
    }
   ],
   "source": [
    "# declaring the file path\n",
    "file_path = r'/Users/claire/Desktop/DS-FT08/Project files/tn.movie_budgets.csv'\n",
    "# reading the csv file into a dataframe\n",
    "movie_budgets_df = pd.read_csv(file_path)\n",
    "# displaying first five results\n",
    "movie_budgets_df.head()"
   ]
  },
  {
   "cell_type": "code",
   "execution_count": 39,
   "metadata": {},
   "outputs": [
    {
     "data": {
      "text/plain": [
       "(5782, 6)"
      ]
     },
     "execution_count": 39,
     "metadata": {},
     "output_type": "execute_result"
    }
   ],
   "source": [
    "# assessing the number of rows and columns in the dataframe\n",
    "movie_budgets_df.shape"
   ]
  },
  {
   "cell_type": "code",
   "execution_count": 40,
   "metadata": {},
   "outputs": [
    {
     "name": "stdout",
     "output_type": "stream",
     "text": [
      "<class 'pandas.core.frame.DataFrame'>\n",
      "RangeIndex: 5782 entries, 0 to 5781\n",
      "Data columns (total 6 columns):\n",
      " #   Column             Non-Null Count  Dtype \n",
      "---  ------             --------------  ----- \n",
      " 0   id                 5782 non-null   int64 \n",
      " 1   release_date       5782 non-null   object\n",
      " 2   movie              5782 non-null   object\n",
      " 3   production_budget  5782 non-null   object\n",
      " 4   domestic_gross     5782 non-null   object\n",
      " 5   worldwide_gross    5782 non-null   object\n",
      "dtypes: int64(1), object(5)\n",
      "memory usage: 271.2+ KB\n"
     ]
    }
   ],
   "source": [
    "movie_budgets_df.info()"
   ]
  },
  {
   "cell_type": "markdown",
   "metadata": {},
   "source": [
    "### Cleaning"
   ]
  },
  {
   "cell_type": "markdown",
   "metadata": {},
   "source": [
    "I was glad to see that the dataset was not missing any values so I decided to dive right into cleaning up the data by configuring the release dates to datetime format and stripping the $ signs and commas from the budget and gross income figures and lastly converting them from objects to integers."
   ]
  },
  {
   "cell_type": "code",
   "execution_count": 41,
   "metadata": {},
   "outputs": [
    {
     "data": {
      "text/html": [
       "<div>\n",
       "<style scoped>\n",
       "    .dataframe tbody tr th:only-of-type {\n",
       "        vertical-align: middle;\n",
       "    }\n",
       "\n",
       "    .dataframe tbody tr th {\n",
       "        vertical-align: top;\n",
       "    }\n",
       "\n",
       "    .dataframe thead th {\n",
       "        text-align: right;\n",
       "    }\n",
       "</style>\n",
       "<table border=\"1\" class=\"dataframe\">\n",
       "  <thead>\n",
       "    <tr style=\"text-align: right;\">\n",
       "      <th></th>\n",
       "      <th>id</th>\n",
       "      <th>release_date</th>\n",
       "      <th>movie</th>\n",
       "      <th>production_budget</th>\n",
       "      <th>domestic_gross</th>\n",
       "      <th>worldwide_gross</th>\n",
       "    </tr>\n",
       "  </thead>\n",
       "  <tbody>\n",
       "    <tr>\n",
       "      <th>0</th>\n",
       "      <td>1</td>\n",
       "      <td>Dec 18, 2009</td>\n",
       "      <td>Avatar</td>\n",
       "      <td>425000000</td>\n",
       "      <td>760507625</td>\n",
       "      <td>2776345279</td>\n",
       "    </tr>\n",
       "    <tr>\n",
       "      <th>1</th>\n",
       "      <td>2</td>\n",
       "      <td>May 20, 2011</td>\n",
       "      <td>Pirates of the Caribbean: On Stranger Tides</td>\n",
       "      <td>410600000</td>\n",
       "      <td>241063875</td>\n",
       "      <td>1045663875</td>\n",
       "    </tr>\n",
       "    <tr>\n",
       "      <th>2</th>\n",
       "      <td>3</td>\n",
       "      <td>Jun 7, 2019</td>\n",
       "      <td>Dark Phoenix</td>\n",
       "      <td>350000000</td>\n",
       "      <td>42762350</td>\n",
       "      <td>149762350</td>\n",
       "    </tr>\n",
       "    <tr>\n",
       "      <th>3</th>\n",
       "      <td>4</td>\n",
       "      <td>May 1, 2015</td>\n",
       "      <td>Avengers: Age of Ultron</td>\n",
       "      <td>330600000</td>\n",
       "      <td>459005868</td>\n",
       "      <td>1403013963</td>\n",
       "    </tr>\n",
       "    <tr>\n",
       "      <th>4</th>\n",
       "      <td>5</td>\n",
       "      <td>Dec 15, 2017</td>\n",
       "      <td>Star Wars Ep. VIII: The Last Jedi</td>\n",
       "      <td>317000000</td>\n",
       "      <td>620181382</td>\n",
       "      <td>1316721747</td>\n",
       "    </tr>\n",
       "    <tr>\n",
       "      <th>...</th>\n",
       "      <td>...</td>\n",
       "      <td>...</td>\n",
       "      <td>...</td>\n",
       "      <td>...</td>\n",
       "      <td>...</td>\n",
       "      <td>...</td>\n",
       "    </tr>\n",
       "    <tr>\n",
       "      <th>5777</th>\n",
       "      <td>78</td>\n",
       "      <td>Dec 31, 2018</td>\n",
       "      <td>Red 11</td>\n",
       "      <td>7000</td>\n",
       "      <td>0</td>\n",
       "      <td>0</td>\n",
       "    </tr>\n",
       "    <tr>\n",
       "      <th>5778</th>\n",
       "      <td>79</td>\n",
       "      <td>Apr 2, 1999</td>\n",
       "      <td>Following</td>\n",
       "      <td>6000</td>\n",
       "      <td>48482</td>\n",
       "      <td>240495</td>\n",
       "    </tr>\n",
       "    <tr>\n",
       "      <th>5779</th>\n",
       "      <td>80</td>\n",
       "      <td>Jul 13, 2005</td>\n",
       "      <td>Return to the Land of Wonders</td>\n",
       "      <td>5000</td>\n",
       "      <td>1338</td>\n",
       "      <td>1338</td>\n",
       "    </tr>\n",
       "    <tr>\n",
       "      <th>5780</th>\n",
       "      <td>81</td>\n",
       "      <td>Sep 29, 2015</td>\n",
       "      <td>A Plague So Pleasant</td>\n",
       "      <td>1400</td>\n",
       "      <td>0</td>\n",
       "      <td>0</td>\n",
       "    </tr>\n",
       "    <tr>\n",
       "      <th>5781</th>\n",
       "      <td>82</td>\n",
       "      <td>Aug 5, 2005</td>\n",
       "      <td>My Date With Drew</td>\n",
       "      <td>1100</td>\n",
       "      <td>181041</td>\n",
       "      <td>181041</td>\n",
       "    </tr>\n",
       "  </tbody>\n",
       "</table>\n",
       "<p>5782 rows × 6 columns</p>\n",
       "</div>"
      ],
      "text/plain": [
       "      id  release_date                                        movie  \\\n",
       "0      1  Dec 18, 2009                                       Avatar   \n",
       "1      2  May 20, 2011  Pirates of the Caribbean: On Stranger Tides   \n",
       "2      3   Jun 7, 2019                                 Dark Phoenix   \n",
       "3      4   May 1, 2015                      Avengers: Age of Ultron   \n",
       "4      5  Dec 15, 2017            Star Wars Ep. VIII: The Last Jedi   \n",
       "...   ..           ...                                          ...   \n",
       "5777  78  Dec 31, 2018                                       Red 11   \n",
       "5778  79   Apr 2, 1999                                    Following   \n",
       "5779  80  Jul 13, 2005                Return to the Land of Wonders   \n",
       "5780  81  Sep 29, 2015                         A Plague So Pleasant   \n",
       "5781  82   Aug 5, 2005                            My Date With Drew   \n",
       "\n",
       "      production_budget  domestic_gross  worldwide_gross  \n",
       "0             425000000       760507625       2776345279  \n",
       "1             410600000       241063875       1045663875  \n",
       "2             350000000        42762350        149762350  \n",
       "3             330600000       459005868       1403013963  \n",
       "4             317000000       620181382       1316721747  \n",
       "...                 ...             ...              ...  \n",
       "5777               7000               0                0  \n",
       "5778               6000           48482           240495  \n",
       "5779               5000            1338             1338  \n",
       "5780               1400               0                0  \n",
       "5781               1100          181041           181041  \n",
       "\n",
       "[5782 rows x 6 columns]"
      ]
     },
     "execution_count": 41,
     "metadata": {},
     "output_type": "execute_result"
    }
   ],
   "source": [
    "# stripping dollar signs and commas from the production budget column and converting values to integers\n",
    "movie_budgets_df['production_budget'] = movie_budgets_df['production_budget'].str.replace(',','').str.replace('$','').astype(int)\n",
    "# stripping dollar signs and commas from the domestic gross column and converting values to integers\n",
    "movie_budgets_df['domestic_gross'] = movie_budgets_df['domestic_gross'].str.replace(',','').str.replace('$','').astype(int)\n",
    "# stripping dollar signs and commas from the worldwide gross column and converting values to integers\n",
    "movie_budgets_df['worldwide_gross'] = movie_budgets_df['worldwide_gross'].str.replace(',','').str.replace('$','').astype(int)\n",
    "# previewing the dataframe\n",
    "movie_budgets_df"
   ]
  },
  {
   "cell_type": "markdown",
   "metadata": {},
   "source": [
    "I created a new column for gross_profit to see the return on investment in relation to a movie's production budget"
   ]
  },
  {
   "cell_type": "code",
   "execution_count": 42,
   "metadata": {},
   "outputs": [
    {
     "data": {
      "text/html": [
       "<div>\n",
       "<style scoped>\n",
       "    .dataframe tbody tr th:only-of-type {\n",
       "        vertical-align: middle;\n",
       "    }\n",
       "\n",
       "    .dataframe tbody tr th {\n",
       "        vertical-align: top;\n",
       "    }\n",
       "\n",
       "    .dataframe thead th {\n",
       "        text-align: right;\n",
       "    }\n",
       "</style>\n",
       "<table border=\"1\" class=\"dataframe\">\n",
       "  <thead>\n",
       "    <tr style=\"text-align: right;\">\n",
       "      <th></th>\n",
       "      <th>id</th>\n",
       "      <th>release_date</th>\n",
       "      <th>movie</th>\n",
       "      <th>production_budget</th>\n",
       "      <th>domestic_gross</th>\n",
       "      <th>worldwide_gross</th>\n",
       "      <th>gross_profit</th>\n",
       "    </tr>\n",
       "  </thead>\n",
       "  <tbody>\n",
       "    <tr>\n",
       "      <th>0</th>\n",
       "      <td>1</td>\n",
       "      <td>Dec 18, 2009</td>\n",
       "      <td>Avatar</td>\n",
       "      <td>425000000</td>\n",
       "      <td>760507625</td>\n",
       "      <td>2776345279</td>\n",
       "      <td>2351345279</td>\n",
       "    </tr>\n",
       "    <tr>\n",
       "      <th>1</th>\n",
       "      <td>2</td>\n",
       "      <td>May 20, 2011</td>\n",
       "      <td>Pirates of the Caribbean: On Stranger Tides</td>\n",
       "      <td>410600000</td>\n",
       "      <td>241063875</td>\n",
       "      <td>1045663875</td>\n",
       "      <td>635063875</td>\n",
       "    </tr>\n",
       "    <tr>\n",
       "      <th>2</th>\n",
       "      <td>3</td>\n",
       "      <td>Jun 7, 2019</td>\n",
       "      <td>Dark Phoenix</td>\n",
       "      <td>350000000</td>\n",
       "      <td>42762350</td>\n",
       "      <td>149762350</td>\n",
       "      <td>-200237650</td>\n",
       "    </tr>\n",
       "    <tr>\n",
       "      <th>3</th>\n",
       "      <td>4</td>\n",
       "      <td>May 1, 2015</td>\n",
       "      <td>Avengers: Age of Ultron</td>\n",
       "      <td>330600000</td>\n",
       "      <td>459005868</td>\n",
       "      <td>1403013963</td>\n",
       "      <td>1072413963</td>\n",
       "    </tr>\n",
       "    <tr>\n",
       "      <th>4</th>\n",
       "      <td>5</td>\n",
       "      <td>Dec 15, 2017</td>\n",
       "      <td>Star Wars Ep. VIII: The Last Jedi</td>\n",
       "      <td>317000000</td>\n",
       "      <td>620181382</td>\n",
       "      <td>1316721747</td>\n",
       "      <td>999721747</td>\n",
       "    </tr>\n",
       "    <tr>\n",
       "      <th>...</th>\n",
       "      <td>...</td>\n",
       "      <td>...</td>\n",
       "      <td>...</td>\n",
       "      <td>...</td>\n",
       "      <td>...</td>\n",
       "      <td>...</td>\n",
       "      <td>...</td>\n",
       "    </tr>\n",
       "    <tr>\n",
       "      <th>5777</th>\n",
       "      <td>78</td>\n",
       "      <td>Dec 31, 2018</td>\n",
       "      <td>Red 11</td>\n",
       "      <td>7000</td>\n",
       "      <td>0</td>\n",
       "      <td>0</td>\n",
       "      <td>-7000</td>\n",
       "    </tr>\n",
       "    <tr>\n",
       "      <th>5778</th>\n",
       "      <td>79</td>\n",
       "      <td>Apr 2, 1999</td>\n",
       "      <td>Following</td>\n",
       "      <td>6000</td>\n",
       "      <td>48482</td>\n",
       "      <td>240495</td>\n",
       "      <td>234495</td>\n",
       "    </tr>\n",
       "    <tr>\n",
       "      <th>5779</th>\n",
       "      <td>80</td>\n",
       "      <td>Jul 13, 2005</td>\n",
       "      <td>Return to the Land of Wonders</td>\n",
       "      <td>5000</td>\n",
       "      <td>1338</td>\n",
       "      <td>1338</td>\n",
       "      <td>-3662</td>\n",
       "    </tr>\n",
       "    <tr>\n",
       "      <th>5780</th>\n",
       "      <td>81</td>\n",
       "      <td>Sep 29, 2015</td>\n",
       "      <td>A Plague So Pleasant</td>\n",
       "      <td>1400</td>\n",
       "      <td>0</td>\n",
       "      <td>0</td>\n",
       "      <td>-1400</td>\n",
       "    </tr>\n",
       "    <tr>\n",
       "      <th>5781</th>\n",
       "      <td>82</td>\n",
       "      <td>Aug 5, 2005</td>\n",
       "      <td>My Date With Drew</td>\n",
       "      <td>1100</td>\n",
       "      <td>181041</td>\n",
       "      <td>181041</td>\n",
       "      <td>179941</td>\n",
       "    </tr>\n",
       "  </tbody>\n",
       "</table>\n",
       "<p>5782 rows × 7 columns</p>\n",
       "</div>"
      ],
      "text/plain": [
       "      id  release_date                                        movie  \\\n",
       "0      1  Dec 18, 2009                                       Avatar   \n",
       "1      2  May 20, 2011  Pirates of the Caribbean: On Stranger Tides   \n",
       "2      3   Jun 7, 2019                                 Dark Phoenix   \n",
       "3      4   May 1, 2015                      Avengers: Age of Ultron   \n",
       "4      5  Dec 15, 2017            Star Wars Ep. VIII: The Last Jedi   \n",
       "...   ..           ...                                          ...   \n",
       "5777  78  Dec 31, 2018                                       Red 11   \n",
       "5778  79   Apr 2, 1999                                    Following   \n",
       "5779  80  Jul 13, 2005                Return to the Land of Wonders   \n",
       "5780  81  Sep 29, 2015                         A Plague So Pleasant   \n",
       "5781  82   Aug 5, 2005                            My Date With Drew   \n",
       "\n",
       "      production_budget  domestic_gross  worldwide_gross  gross_profit  \n",
       "0             425000000       760507625       2776345279    2351345279  \n",
       "1             410600000       241063875       1045663875     635063875  \n",
       "2             350000000        42762350        149762350    -200237650  \n",
       "3             330600000       459005868       1403013963    1072413963  \n",
       "4             317000000       620181382       1316721747     999721747  \n",
       "...                 ...             ...              ...           ...  \n",
       "5777               7000               0                0         -7000  \n",
       "5778               6000           48482           240495        234495  \n",
       "5779               5000            1338             1338         -3662  \n",
       "5780               1400               0                0         -1400  \n",
       "5781               1100          181041           181041        179941  \n",
       "\n",
       "[5782 rows x 7 columns]"
      ]
     },
     "execution_count": 42,
     "metadata": {},
     "output_type": "execute_result"
    }
   ],
   "source": [
    "# creating a new column for gross profit made\n",
    "movie_budgets_df['gross_profit'] = (movie_budgets_df['worldwide_gross'] - movie_budgets_df['production_budget'])\n",
    "# previewing results\n",
    "movie_budgets_df"
   ]
  },
  {
   "cell_type": "code",
   "execution_count": 43,
   "metadata": {},
   "outputs": [
    {
     "data": {
      "text/html": [
       "<div>\n",
       "<style scoped>\n",
       "    .dataframe tbody tr th:only-of-type {\n",
       "        vertical-align: middle;\n",
       "    }\n",
       "\n",
       "    .dataframe tbody tr th {\n",
       "        vertical-align: top;\n",
       "    }\n",
       "\n",
       "    .dataframe thead th {\n",
       "        text-align: right;\n",
       "    }\n",
       "</style>\n",
       "<table border=\"1\" class=\"dataframe\">\n",
       "  <thead>\n",
       "    <tr style=\"text-align: right;\">\n",
       "      <th></th>\n",
       "      <th>release_date</th>\n",
       "      <th>title</th>\n",
       "      <th>production_budget</th>\n",
       "      <th>domestic_gross</th>\n",
       "      <th>worldwide_gross</th>\n",
       "      <th>gross_profit</th>\n",
       "      <th>release_month</th>\n",
       "      <th>release_year</th>\n",
       "      <th>release_day</th>\n",
       "    </tr>\n",
       "  </thead>\n",
       "  <tbody>\n",
       "    <tr>\n",
       "      <th>0</th>\n",
       "      <td>2009-12-18</td>\n",
       "      <td>Avatar</td>\n",
       "      <td>425000000</td>\n",
       "      <td>760507625</td>\n",
       "      <td>2776345279</td>\n",
       "      <td>2351345279</td>\n",
       "      <td>December</td>\n",
       "      <td>2009</td>\n",
       "      <td>Friday</td>\n",
       "    </tr>\n",
       "    <tr>\n",
       "      <th>1</th>\n",
       "      <td>2011-05-20</td>\n",
       "      <td>Pirates of the Caribbean: On Stranger Tides</td>\n",
       "      <td>410600000</td>\n",
       "      <td>241063875</td>\n",
       "      <td>1045663875</td>\n",
       "      <td>635063875</td>\n",
       "      <td>May</td>\n",
       "      <td>2011</td>\n",
       "      <td>Friday</td>\n",
       "    </tr>\n",
       "    <tr>\n",
       "      <th>2</th>\n",
       "      <td>2019-06-07</td>\n",
       "      <td>Dark Phoenix</td>\n",
       "      <td>350000000</td>\n",
       "      <td>42762350</td>\n",
       "      <td>149762350</td>\n",
       "      <td>-200237650</td>\n",
       "      <td>June</td>\n",
       "      <td>2019</td>\n",
       "      <td>Friday</td>\n",
       "    </tr>\n",
       "    <tr>\n",
       "      <th>3</th>\n",
       "      <td>2015-05-01</td>\n",
       "      <td>Avengers: Age of Ultron</td>\n",
       "      <td>330600000</td>\n",
       "      <td>459005868</td>\n",
       "      <td>1403013963</td>\n",
       "      <td>1072413963</td>\n",
       "      <td>May</td>\n",
       "      <td>2015</td>\n",
       "      <td>Friday</td>\n",
       "    </tr>\n",
       "    <tr>\n",
       "      <th>4</th>\n",
       "      <td>2017-12-15</td>\n",
       "      <td>Star Wars Ep. VIII: The Last Jedi</td>\n",
       "      <td>317000000</td>\n",
       "      <td>620181382</td>\n",
       "      <td>1316721747</td>\n",
       "      <td>999721747</td>\n",
       "      <td>December</td>\n",
       "      <td>2017</td>\n",
       "      <td>Friday</td>\n",
       "    </tr>\n",
       "    <tr>\n",
       "      <th>...</th>\n",
       "      <td>...</td>\n",
       "      <td>...</td>\n",
       "      <td>...</td>\n",
       "      <td>...</td>\n",
       "      <td>...</td>\n",
       "      <td>...</td>\n",
       "      <td>...</td>\n",
       "      <td>...</td>\n",
       "      <td>...</td>\n",
       "    </tr>\n",
       "    <tr>\n",
       "      <th>5777</th>\n",
       "      <td>2018-12-31</td>\n",
       "      <td>Red 11</td>\n",
       "      <td>7000</td>\n",
       "      <td>0</td>\n",
       "      <td>0</td>\n",
       "      <td>-7000</td>\n",
       "      <td>December</td>\n",
       "      <td>2018</td>\n",
       "      <td>Monday</td>\n",
       "    </tr>\n",
       "    <tr>\n",
       "      <th>5778</th>\n",
       "      <td>1999-04-02</td>\n",
       "      <td>Following</td>\n",
       "      <td>6000</td>\n",
       "      <td>48482</td>\n",
       "      <td>240495</td>\n",
       "      <td>234495</td>\n",
       "      <td>April</td>\n",
       "      <td>1999</td>\n",
       "      <td>Friday</td>\n",
       "    </tr>\n",
       "    <tr>\n",
       "      <th>5779</th>\n",
       "      <td>2005-07-13</td>\n",
       "      <td>Return to the Land of Wonders</td>\n",
       "      <td>5000</td>\n",
       "      <td>1338</td>\n",
       "      <td>1338</td>\n",
       "      <td>-3662</td>\n",
       "      <td>July</td>\n",
       "      <td>2005</td>\n",
       "      <td>Wednesday</td>\n",
       "    </tr>\n",
       "    <tr>\n",
       "      <th>5780</th>\n",
       "      <td>2015-09-29</td>\n",
       "      <td>A Plague So Pleasant</td>\n",
       "      <td>1400</td>\n",
       "      <td>0</td>\n",
       "      <td>0</td>\n",
       "      <td>-1400</td>\n",
       "      <td>September</td>\n",
       "      <td>2015</td>\n",
       "      <td>Tuesday</td>\n",
       "    </tr>\n",
       "    <tr>\n",
       "      <th>5781</th>\n",
       "      <td>2005-08-05</td>\n",
       "      <td>My Date With Drew</td>\n",
       "      <td>1100</td>\n",
       "      <td>181041</td>\n",
       "      <td>181041</td>\n",
       "      <td>179941</td>\n",
       "      <td>August</td>\n",
       "      <td>2005</td>\n",
       "      <td>Friday</td>\n",
       "    </tr>\n",
       "  </tbody>\n",
       "</table>\n",
       "<p>5782 rows × 9 columns</p>\n",
       "</div>"
      ],
      "text/plain": [
       "     release_date                                        title  \\\n",
       "0      2009-12-18                                       Avatar   \n",
       "1      2011-05-20  Pirates of the Caribbean: On Stranger Tides   \n",
       "2      2019-06-07                                 Dark Phoenix   \n",
       "3      2015-05-01                      Avengers: Age of Ultron   \n",
       "4      2017-12-15            Star Wars Ep. VIII: The Last Jedi   \n",
       "...           ...                                          ...   \n",
       "5777   2018-12-31                                       Red 11   \n",
       "5778   1999-04-02                                    Following   \n",
       "5779   2005-07-13                Return to the Land of Wonders   \n",
       "5780   2015-09-29                         A Plague So Pleasant   \n",
       "5781   2005-08-05                            My Date With Drew   \n",
       "\n",
       "      production_budget  domestic_gross  worldwide_gross  gross_profit  \\\n",
       "0             425000000       760507625       2776345279    2351345279   \n",
       "1             410600000       241063875       1045663875     635063875   \n",
       "2             350000000        42762350        149762350    -200237650   \n",
       "3             330600000       459005868       1403013963    1072413963   \n",
       "4             317000000       620181382       1316721747     999721747   \n",
       "...                 ...             ...              ...           ...   \n",
       "5777               7000               0                0         -7000   \n",
       "5778               6000           48482           240495        234495   \n",
       "5779               5000            1338             1338         -3662   \n",
       "5780               1400               0                0         -1400   \n",
       "5781               1100          181041           181041        179941   \n",
       "\n",
       "     release_month  release_year release_day  \n",
       "0         December          2009      Friday  \n",
       "1              May          2011      Friday  \n",
       "2             June          2019      Friday  \n",
       "3              May          2015      Friday  \n",
       "4         December          2017      Friday  \n",
       "...            ...           ...         ...  \n",
       "5777      December          2018      Monday  \n",
       "5778         April          1999      Friday  \n",
       "5779          July          2005   Wednesday  \n",
       "5780     September          2015     Tuesday  \n",
       "5781        August          2005      Friday  \n",
       "\n",
       "[5782 rows x 9 columns]"
      ]
     },
     "execution_count": 43,
     "metadata": {},
     "output_type": "execute_result"
    }
   ],
   "source": [
    "# converting release date to datetime format\n",
    "movie_budgets_df['release_date'] = pd.to_datetime(movie_budgets_df['release_date'])\n",
    "# creating new column for the release month\n",
    "movie_budgets_df['release_month'] = movie_budgets_df['release_date'].dt.strftime('%B')\n",
    "# creating new column for release years\n",
    "movie_budgets_df['release_year'] = movie_budgets_df['release_date'].dt.strftime('%Y').astype(int)\n",
    "# creating new column for release day\n",
    "movie_budgets_df['release_day'] = movie_budgets_df['release_date'].dt.day_name()\n",
    "# renaming the movie column to title\n",
    "movie_budgets_df = movie_budgets_df.rename(columns = {'movie': 'title'}) \n",
    "# dropping the id column\n",
    "movie_budgets_df.drop(columns='id', inplace=True)\n",
    "# previewing dataframe\n",
    "movie_budgets_df"
   ]
  },
  {
   "cell_type": "code",
   "execution_count": 44,
   "metadata": {},
   "outputs": [
    {
     "data": {
      "text/html": [
       "<div>\n",
       "<style scoped>\n",
       "    .dataframe tbody tr th:only-of-type {\n",
       "        vertical-align: middle;\n",
       "    }\n",
       "\n",
       "    .dataframe tbody tr th {\n",
       "        vertical-align: top;\n",
       "    }\n",
       "\n",
       "    .dataframe thead th {\n",
       "        text-align: right;\n",
       "    }\n",
       "</style>\n",
       "<table border=\"1\" class=\"dataframe\">\n",
       "  <thead>\n",
       "    <tr style=\"text-align: right;\">\n",
       "      <th></th>\n",
       "      <th>release_date</th>\n",
       "      <th>title</th>\n",
       "      <th>production_budget</th>\n",
       "      <th>domestic_gross</th>\n",
       "      <th>worldwide_gross</th>\n",
       "      <th>gross_profit</th>\n",
       "      <th>release_month</th>\n",
       "      <th>release_year</th>\n",
       "      <th>release_day</th>\n",
       "    </tr>\n",
       "  </thead>\n",
       "  <tbody>\n",
       "    <tr>\n",
       "      <th>2</th>\n",
       "      <td>2019-06-07</td>\n",
       "      <td>Dark Phoenix</td>\n",
       "      <td>350000000</td>\n",
       "      <td>42762350</td>\n",
       "      <td>149762350</td>\n",
       "      <td>-200237650</td>\n",
       "      <td>June</td>\n",
       "      <td>2019</td>\n",
       "      <td>Friday</td>\n",
       "    </tr>\n",
       "    <tr>\n",
       "      <th>3</th>\n",
       "      <td>2015-05-01</td>\n",
       "      <td>Avengers: Age of Ultron</td>\n",
       "      <td>330600000</td>\n",
       "      <td>459005868</td>\n",
       "      <td>1403013963</td>\n",
       "      <td>1072413963</td>\n",
       "      <td>May</td>\n",
       "      <td>2015</td>\n",
       "      <td>Friday</td>\n",
       "    </tr>\n",
       "    <tr>\n",
       "      <th>4</th>\n",
       "      <td>2017-12-15</td>\n",
       "      <td>Star Wars Ep. VIII: The Last Jedi</td>\n",
       "      <td>317000000</td>\n",
       "      <td>620181382</td>\n",
       "      <td>1316721747</td>\n",
       "      <td>999721747</td>\n",
       "      <td>December</td>\n",
       "      <td>2017</td>\n",
       "      <td>Friday</td>\n",
       "    </tr>\n",
       "    <tr>\n",
       "      <th>5</th>\n",
       "      <td>2015-12-18</td>\n",
       "      <td>Star Wars Ep. VII: The Force Awakens</td>\n",
       "      <td>306000000</td>\n",
       "      <td>936662225</td>\n",
       "      <td>2053311220</td>\n",
       "      <td>1747311220</td>\n",
       "      <td>December</td>\n",
       "      <td>2015</td>\n",
       "      <td>Friday</td>\n",
       "    </tr>\n",
       "    <tr>\n",
       "      <th>6</th>\n",
       "      <td>2018-04-27</td>\n",
       "      <td>Avengers: Infinity War</td>\n",
       "      <td>300000000</td>\n",
       "      <td>678815482</td>\n",
       "      <td>2048134200</td>\n",
       "      <td>1748134200</td>\n",
       "      <td>April</td>\n",
       "      <td>2018</td>\n",
       "      <td>Friday</td>\n",
       "    </tr>\n",
       "    <tr>\n",
       "      <th>8</th>\n",
       "      <td>2017-11-17</td>\n",
       "      <td>Justice League</td>\n",
       "      <td>300000000</td>\n",
       "      <td>229024295</td>\n",
       "      <td>655945209</td>\n",
       "      <td>355945209</td>\n",
       "      <td>November</td>\n",
       "      <td>2017</td>\n",
       "      <td>Friday</td>\n",
       "    </tr>\n",
       "    <tr>\n",
       "      <th>9</th>\n",
       "      <td>2015-11-06</td>\n",
       "      <td>Spectre</td>\n",
       "      <td>300000000</td>\n",
       "      <td>200074175</td>\n",
       "      <td>879620923</td>\n",
       "      <td>579620923</td>\n",
       "      <td>November</td>\n",
       "      <td>2015</td>\n",
       "      <td>Friday</td>\n",
       "    </tr>\n",
       "    <tr>\n",
       "      <th>11</th>\n",
       "      <td>2018-05-25</td>\n",
       "      <td>Solo: A Star Wars Story</td>\n",
       "      <td>275000000</td>\n",
       "      <td>213767512</td>\n",
       "      <td>393151347</td>\n",
       "      <td>118151347</td>\n",
       "      <td>May</td>\n",
       "      <td>2018</td>\n",
       "      <td>Friday</td>\n",
       "    </tr>\n",
       "    <tr>\n",
       "      <th>16</th>\n",
       "      <td>2016-05-06</td>\n",
       "      <td>Captain America: Civil War</td>\n",
       "      <td>250000000</td>\n",
       "      <td>408084349</td>\n",
       "      <td>1140069413</td>\n",
       "      <td>890069413</td>\n",
       "      <td>May</td>\n",
       "      <td>2016</td>\n",
       "      <td>Friday</td>\n",
       "    </tr>\n",
       "    <tr>\n",
       "      <th>17</th>\n",
       "      <td>2016-03-25</td>\n",
       "      <td>Batman v Superman: Dawn of Justice</td>\n",
       "      <td>250000000</td>\n",
       "      <td>330360194</td>\n",
       "      <td>867500281</td>\n",
       "      <td>617500281</td>\n",
       "      <td>March</td>\n",
       "      <td>2016</td>\n",
       "      <td>Friday</td>\n",
       "    </tr>\n",
       "  </tbody>\n",
       "</table>\n",
       "</div>"
      ],
      "text/plain": [
       "   release_date                                 title  production_budget  \\\n",
       "2    2019-06-07                          Dark Phoenix          350000000   \n",
       "3    2015-05-01               Avengers: Age of Ultron          330600000   \n",
       "4    2017-12-15     Star Wars Ep. VIII: The Last Jedi          317000000   \n",
       "5    2015-12-18  Star Wars Ep. VII: The Force Awakens          306000000   \n",
       "6    2018-04-27                Avengers: Infinity War          300000000   \n",
       "8    2017-11-17                        Justice League          300000000   \n",
       "9    2015-11-06                               Spectre          300000000   \n",
       "11   2018-05-25               Solo: A Star Wars Story          275000000   \n",
       "16   2016-05-06            Captain America: Civil War          250000000   \n",
       "17   2016-03-25    Batman v Superman: Dawn of Justice          250000000   \n",
       "\n",
       "    domestic_gross  worldwide_gross  gross_profit release_month  release_year  \\\n",
       "2         42762350        149762350    -200237650          June          2019   \n",
       "3        459005868       1403013963    1072413963           May          2015   \n",
       "4        620181382       1316721747     999721747      December          2017   \n",
       "5        936662225       2053311220    1747311220      December          2015   \n",
       "6        678815482       2048134200    1748134200         April          2018   \n",
       "8        229024295        655945209     355945209      November          2017   \n",
       "9        200074175        879620923     579620923      November          2015   \n",
       "11       213767512        393151347     118151347           May          2018   \n",
       "16       408084349       1140069413     890069413           May          2016   \n",
       "17       330360194        867500281     617500281         March          2016   \n",
       "\n",
       "   release_day  \n",
       "2       Friday  \n",
       "3       Friday  \n",
       "4       Friday  \n",
       "5       Friday  \n",
       "6       Friday  \n",
       "8       Friday  \n",
       "9       Friday  \n",
       "11      Friday  \n",
       "16      Friday  \n",
       "17      Friday  "
      ]
     },
     "execution_count": 44,
     "metadata": {},
     "output_type": "execute_result"
    }
   ],
   "source": [
    "# filtering only films produced after 2015\n",
    "movie_budgets_df = movie_budgets_df[(movie_budgets_df['release_year']>=2015)]\n",
    "# previewing the first 10 results\n",
    "movie_budgets_df.head(10)"
   ]
  },
  {
   "cell_type": "code",
   "execution_count": 45,
   "metadata": {},
   "outputs": [
    {
     "data": {
      "text/plain": [
       "(938, 9)"
      ]
     },
     "execution_count": 45,
     "metadata": {},
     "output_type": "execute_result"
    }
   ],
   "source": [
    "# checking the final number of rows and columns in the dataframe\n",
    "movie_budgets_df.shape"
   ]
  },
  {
   "cell_type": "code",
   "execution_count": 46,
   "metadata": {},
   "outputs": [
    {
     "data": {
      "text/plain": [
       "release_date         0\n",
       "title                0\n",
       "production_budget    0\n",
       "domestic_gross       0\n",
       "worldwide_gross      0\n",
       "gross_profit         0\n",
       "release_month        0\n",
       "release_year         0\n",
       "release_day          0\n",
       "dtype: int64"
      ]
     },
     "execution_count": 46,
     "metadata": {},
     "output_type": "execute_result"
    }
   ],
   "source": [
    "# cofirming there are no null values in the dataframe\n",
    "movie_budgets_df.isna().sum()"
   ]
  },
  {
   "cell_type": "code",
   "execution_count": 47,
   "metadata": {},
   "outputs": [],
   "source": [
    "#saving the dataframe in current directory as a csv file\n",
    "movie_budgets_df.to_csv('./movie_budgets_df.csv')"
   ]
  },
  {
   "cell_type": "markdown",
   "metadata": {},
   "source": [
    "### Merging"
   ]
  },
  {
   "cell_type": "markdown",
   "metadata": {},
   "source": [
    "Now was the time to merge the three datframes systematically inorder to bring together all the different columns with values that would enable us to derive insights for Microsoft. The first step was to merge the dataframes containing financial data about the different movies. I went with a right join inorder to include all rows from the movie_budgets dataframe and matching rows from the box office mojo dataframe in order to fill in any missing values and kind of get the best of both worlds."
   ]
  },
  {
   "cell_type": "code",
   "execution_count": 48,
   "metadata": {},
   "outputs": [
    {
     "data": {
      "text/html": [
       "<div>\n",
       "<style scoped>\n",
       "    .dataframe tbody tr th:only-of-type {\n",
       "        vertical-align: middle;\n",
       "    }\n",
       "\n",
       "    .dataframe tbody tr th {\n",
       "        vertical-align: top;\n",
       "    }\n",
       "\n",
       "    .dataframe thead th {\n",
       "        text-align: right;\n",
       "    }\n",
       "</style>\n",
       "<table border=\"1\" class=\"dataframe\">\n",
       "  <thead>\n",
       "    <tr style=\"text-align: right;\">\n",
       "      <th></th>\n",
       "      <th>title</th>\n",
       "      <th>domestic_gross</th>\n",
       "      <th>foreign_gross</th>\n",
       "      <th>release_year</th>\n",
       "      <th>release_date</th>\n",
       "      <th>production_budget</th>\n",
       "      <th>worldwide_gross</th>\n",
       "      <th>gross_profit</th>\n",
       "      <th>release_month</th>\n",
       "      <th>release_day</th>\n",
       "    </tr>\n",
       "  </thead>\n",
       "  <tbody>\n",
       "    <tr>\n",
       "      <th>0</th>\n",
       "      <td>Dark Phoenix</td>\n",
       "      <td>42762350</td>\n",
       "      <td>107000000</td>\n",
       "      <td>2019</td>\n",
       "      <td>2019-06-07</td>\n",
       "      <td>350000000</td>\n",
       "      <td>149762350</td>\n",
       "      <td>-200237650</td>\n",
       "      <td>June</td>\n",
       "      <td>Friday</td>\n",
       "    </tr>\n",
       "    <tr>\n",
       "      <th>1</th>\n",
       "      <td>Avengers: Age of Ultron</td>\n",
       "      <td>459005868</td>\n",
       "      <td>944008095</td>\n",
       "      <td>2015</td>\n",
       "      <td>2015-05-01</td>\n",
       "      <td>330600000</td>\n",
       "      <td>1403013963</td>\n",
       "      <td>1072413963</td>\n",
       "      <td>May</td>\n",
       "      <td>Friday</td>\n",
       "    </tr>\n",
       "    <tr>\n",
       "      <th>2</th>\n",
       "      <td>Star Wars Ep. VIII: The Last Jedi</td>\n",
       "      <td>620181382</td>\n",
       "      <td>696540365</td>\n",
       "      <td>2017</td>\n",
       "      <td>2017-12-15</td>\n",
       "      <td>317000000</td>\n",
       "      <td>1316721747</td>\n",
       "      <td>999721747</td>\n",
       "      <td>December</td>\n",
       "      <td>Friday</td>\n",
       "    </tr>\n",
       "    <tr>\n",
       "      <th>3</th>\n",
       "      <td>Star Wars Ep. VII: The Force Awakens</td>\n",
       "      <td>936662225</td>\n",
       "      <td>1116648995</td>\n",
       "      <td>2015</td>\n",
       "      <td>2015-12-18</td>\n",
       "      <td>306000000</td>\n",
       "      <td>2053311220</td>\n",
       "      <td>1747311220</td>\n",
       "      <td>December</td>\n",
       "      <td>Friday</td>\n",
       "    </tr>\n",
       "    <tr>\n",
       "      <th>4</th>\n",
       "      <td>Avengers: Infinity War</td>\n",
       "      <td>678815482</td>\n",
       "      <td>1369318718</td>\n",
       "      <td>2018</td>\n",
       "      <td>2018-04-27</td>\n",
       "      <td>300000000</td>\n",
       "      <td>2048134200</td>\n",
       "      <td>1748134200</td>\n",
       "      <td>April</td>\n",
       "      <td>Friday</td>\n",
       "    </tr>\n",
       "    <tr>\n",
       "      <th>5</th>\n",
       "      <td>Justice League</td>\n",
       "      <td>229024295</td>\n",
       "      <td>426920914</td>\n",
       "      <td>2017</td>\n",
       "      <td>2017-11-17</td>\n",
       "      <td>300000000</td>\n",
       "      <td>655945209</td>\n",
       "      <td>355945209</td>\n",
       "      <td>November</td>\n",
       "      <td>Friday</td>\n",
       "    </tr>\n",
       "    <tr>\n",
       "      <th>6</th>\n",
       "      <td>Spectre</td>\n",
       "      <td>200074175</td>\n",
       "      <td>679546748</td>\n",
       "      <td>2015</td>\n",
       "      <td>2015-11-06</td>\n",
       "      <td>300000000</td>\n",
       "      <td>879620923</td>\n",
       "      <td>579620923</td>\n",
       "      <td>November</td>\n",
       "      <td>Friday</td>\n",
       "    </tr>\n",
       "    <tr>\n",
       "      <th>7</th>\n",
       "      <td>Solo: A Star Wars Story</td>\n",
       "      <td>213767512</td>\n",
       "      <td>179383835</td>\n",
       "      <td>2018</td>\n",
       "      <td>2018-05-25</td>\n",
       "      <td>275000000</td>\n",
       "      <td>393151347</td>\n",
       "      <td>118151347</td>\n",
       "      <td>May</td>\n",
       "      <td>Friday</td>\n",
       "    </tr>\n",
       "    <tr>\n",
       "      <th>8</th>\n",
       "      <td>Captain America: Civil War</td>\n",
       "      <td>408084349</td>\n",
       "      <td>731985064</td>\n",
       "      <td>2016</td>\n",
       "      <td>2016-05-06</td>\n",
       "      <td>250000000</td>\n",
       "      <td>1140069413</td>\n",
       "      <td>890069413</td>\n",
       "      <td>May</td>\n",
       "      <td>Friday</td>\n",
       "    </tr>\n",
       "    <tr>\n",
       "      <th>9</th>\n",
       "      <td>Batman v Superman: Dawn of Justice</td>\n",
       "      <td>330360194</td>\n",
       "      <td>537140087</td>\n",
       "      <td>2016</td>\n",
       "      <td>2016-03-25</td>\n",
       "      <td>250000000</td>\n",
       "      <td>867500281</td>\n",
       "      <td>617500281</td>\n",
       "      <td>March</td>\n",
       "      <td>Friday</td>\n",
       "    </tr>\n",
       "  </tbody>\n",
       "</table>\n",
       "</div>"
      ],
      "text/plain": [
       "                                  title  domestic_gross  foreign_gross  \\\n",
       "0                          Dark Phoenix        42762350      107000000   \n",
       "1               Avengers: Age of Ultron       459005868      944008095   \n",
       "2     Star Wars Ep. VIII: The Last Jedi       620181382      696540365   \n",
       "3  Star Wars Ep. VII: The Force Awakens       936662225     1116648995   \n",
       "4                Avengers: Infinity War       678815482     1369318718   \n",
       "5                        Justice League       229024295      426920914   \n",
       "6                               Spectre       200074175      679546748   \n",
       "7               Solo: A Star Wars Story       213767512      179383835   \n",
       "8            Captain America: Civil War       408084349      731985064   \n",
       "9    Batman v Superman: Dawn of Justice       330360194      537140087   \n",
       "\n",
       "   release_year release_date  production_budget  worldwide_gross  \\\n",
       "0          2019   2019-06-07          350000000        149762350   \n",
       "1          2015   2015-05-01          330600000       1403013963   \n",
       "2          2017   2017-12-15          317000000       1316721747   \n",
       "3          2015   2015-12-18          306000000       2053311220   \n",
       "4          2018   2018-04-27          300000000       2048134200   \n",
       "5          2017   2017-11-17          300000000        655945209   \n",
       "6          2015   2015-11-06          300000000        879620923   \n",
       "7          2018   2018-05-25          275000000        393151347   \n",
       "8          2016   2016-05-06          250000000       1140069413   \n",
       "9          2016   2016-03-25          250000000        867500281   \n",
       "\n",
       "   gross_profit release_month release_day  \n",
       "0    -200237650          June      Friday  \n",
       "1    1072413963           May      Friday  \n",
       "2     999721747      December      Friday  \n",
       "3    1747311220      December      Friday  \n",
       "4    1748134200         April      Friday  \n",
       "5     355945209      November      Friday  \n",
       "6     579620923      November      Friday  \n",
       "7     118151347           May      Friday  \n",
       "8     890069413           May      Friday  \n",
       "9     617500281         March      Friday  "
      ]
     },
     "execution_count": 48,
     "metadata": {},
     "output_type": "execute_result"
    }
   ],
   "source": [
    "# merging the bom_movie_gross dataframe with the movie_budgets dataframe\n",
    "bom_moviebudgets_df = pd.merge(bom_movie_gross_df, movie_budgets_df, how='right')\n",
    "# creating a new column for foreign gross values\n",
    "bom_moviebudgets_df['foreign_gross'] = (bom_moviebudgets_df['worldwide_gross'] - bom_moviebudgets_df['domestic_gross'])\n",
    "# previewing the top 10 results\n",
    "bom_moviebudgets_df.head(10)"
   ]
  },
  {
   "cell_type": "code",
   "execution_count": 49,
   "metadata": {},
   "outputs": [
    {
     "data": {
      "text/html": [
       "<div>\n",
       "<style scoped>\n",
       "    .dataframe tbody tr th:only-of-type {\n",
       "        vertical-align: middle;\n",
       "    }\n",
       "\n",
       "    .dataframe tbody tr th {\n",
       "        vertical-align: top;\n",
       "    }\n",
       "\n",
       "    .dataframe thead th {\n",
       "        text-align: right;\n",
       "    }\n",
       "</style>\n",
       "<table border=\"1\" class=\"dataframe\">\n",
       "  <thead>\n",
       "    <tr style=\"text-align: right;\">\n",
       "      <th></th>\n",
       "      <th>title</th>\n",
       "      <th>domestic_gross</th>\n",
       "      <th>foreign_gross</th>\n",
       "      <th>release_year</th>\n",
       "      <th>release_date</th>\n",
       "      <th>production_budget</th>\n",
       "      <th>worldwide_gross</th>\n",
       "      <th>gross_profit</th>\n",
       "      <th>release_month</th>\n",
       "      <th>release_day</th>\n",
       "    </tr>\n",
       "  </thead>\n",
       "  <tbody>\n",
       "    <tr>\n",
       "      <th>4</th>\n",
       "      <td>Avengers: Infinity War</td>\n",
       "      <td>678815482</td>\n",
       "      <td>1369318718</td>\n",
       "      <td>2018</td>\n",
       "      <td>2018-04-27</td>\n",
       "      <td>300000000</td>\n",
       "      <td>2048134200</td>\n",
       "      <td>1748134200</td>\n",
       "      <td>April</td>\n",
       "      <td>Friday</td>\n",
       "    </tr>\n",
       "    <tr>\n",
       "      <th>3</th>\n",
       "      <td>Star Wars Ep. VII: The Force Awakens</td>\n",
       "      <td>936662225</td>\n",
       "      <td>1116648995</td>\n",
       "      <td>2015</td>\n",
       "      <td>2015-12-18</td>\n",
       "      <td>306000000</td>\n",
       "      <td>2053311220</td>\n",
       "      <td>1747311220</td>\n",
       "      <td>December</td>\n",
       "      <td>Friday</td>\n",
       "    </tr>\n",
       "    <tr>\n",
       "      <th>13</th>\n",
       "      <td>Jurassic World</td>\n",
       "      <td>652270625</td>\n",
       "      <td>996584239</td>\n",
       "      <td>2015</td>\n",
       "      <td>2015-06-12</td>\n",
       "      <td>215000000</td>\n",
       "      <td>1648854864</td>\n",
       "      <td>1433854864</td>\n",
       "      <td>June</td>\n",
       "      <td>Friday</td>\n",
       "    </tr>\n",
       "    <tr>\n",
       "      <th>21</th>\n",
       "      <td>Furious 7</td>\n",
       "      <td>353007020</td>\n",
       "      <td>1165715774</td>\n",
       "      <td>2015</td>\n",
       "      <td>2015-04-03</td>\n",
       "      <td>190000000</td>\n",
       "      <td>1518722794</td>\n",
       "      <td>1328722794</td>\n",
       "      <td>April</td>\n",
       "      <td>Friday</td>\n",
       "    </tr>\n",
       "    <tr>\n",
       "      <th>14</th>\n",
       "      <td>Black Panther</td>\n",
       "      <td>700059566</td>\n",
       "      <td>648198658</td>\n",
       "      <td>2018</td>\n",
       "      <td>2018-02-16</td>\n",
       "      <td>200000000</td>\n",
       "      <td>1348258224</td>\n",
       "      <td>1148258224</td>\n",
       "      <td>February</td>\n",
       "      <td>Friday</td>\n",
       "    </tr>\n",
       "    <tr>\n",
       "      <th>44</th>\n",
       "      <td>Jurassic World: Fallen Kingdom</td>\n",
       "      <td>417719760</td>\n",
       "      <td>888053039</td>\n",
       "      <td>2018</td>\n",
       "      <td>2018-06-22</td>\n",
       "      <td>170000000</td>\n",
       "      <td>1305772799</td>\n",
       "      <td>1135772799</td>\n",
       "      <td>June</td>\n",
       "      <td>Friday</td>\n",
       "    </tr>\n",
       "    <tr>\n",
       "      <th>52</th>\n",
       "      <td>Beauty and the Beast</td>\n",
       "      <td>504014165</td>\n",
       "      <td>755185541</td>\n",
       "      <td>2017</td>\n",
       "      <td>2017-03-17</td>\n",
       "      <td>160000000</td>\n",
       "      <td>1259199706</td>\n",
       "      <td>1099199706</td>\n",
       "      <td>March</td>\n",
       "      <td>Friday</td>\n",
       "    </tr>\n",
       "    <tr>\n",
       "      <th>155</th>\n",
       "      <td>Minions</td>\n",
       "      <td>336045770</td>\n",
       "      <td>824290403</td>\n",
       "      <td>2015</td>\n",
       "      <td>2015-07-10</td>\n",
       "      <td>74000000</td>\n",
       "      <td>1160336173</td>\n",
       "      <td>1086336173</td>\n",
       "      <td>July</td>\n",
       "      <td>Friday</td>\n",
       "    </tr>\n",
       "    <tr>\n",
       "      <th>1</th>\n",
       "      <td>Avengers: Age of Ultron</td>\n",
       "      <td>459005868</td>\n",
       "      <td>944008095</td>\n",
       "      <td>2015</td>\n",
       "      <td>2015-05-01</td>\n",
       "      <td>330600000</td>\n",
       "      <td>1403013963</td>\n",
       "      <td>1072413963</td>\n",
       "      <td>May</td>\n",
       "      <td>Friday</td>\n",
       "    </tr>\n",
       "    <tr>\n",
       "      <th>15</th>\n",
       "      <td>Incredibles 2</td>\n",
       "      <td>608581744</td>\n",
       "      <td>633938967</td>\n",
       "      <td>2018</td>\n",
       "      <td>2018-06-15</td>\n",
       "      <td>200000000</td>\n",
       "      <td>1242520711</td>\n",
       "      <td>1042520711</td>\n",
       "      <td>June</td>\n",
       "      <td>Friday</td>\n",
       "    </tr>\n",
       "  </tbody>\n",
       "</table>\n",
       "</div>"
      ],
      "text/plain": [
       "                                    title  domestic_gross  foreign_gross  \\\n",
       "4                  Avengers: Infinity War       678815482     1369318718   \n",
       "3    Star Wars Ep. VII: The Force Awakens       936662225     1116648995   \n",
       "13                         Jurassic World       652270625      996584239   \n",
       "21                              Furious 7       353007020     1165715774   \n",
       "14                          Black Panther       700059566      648198658   \n",
       "44         Jurassic World: Fallen Kingdom       417719760      888053039   \n",
       "52                   Beauty and the Beast       504014165      755185541   \n",
       "155                               Minions       336045770      824290403   \n",
       "1                 Avengers: Age of Ultron       459005868      944008095   \n",
       "15                          Incredibles 2       608581744      633938967   \n",
       "\n",
       "     release_year release_date  production_budget  worldwide_gross  \\\n",
       "4            2018   2018-04-27          300000000       2048134200   \n",
       "3            2015   2015-12-18          306000000       2053311220   \n",
       "13           2015   2015-06-12          215000000       1648854864   \n",
       "21           2015   2015-04-03          190000000       1518722794   \n",
       "14           2018   2018-02-16          200000000       1348258224   \n",
       "44           2018   2018-06-22          170000000       1305772799   \n",
       "52           2017   2017-03-17          160000000       1259199706   \n",
       "155          2015   2015-07-10           74000000       1160336173   \n",
       "1            2015   2015-05-01          330600000       1403013963   \n",
       "15           2018   2018-06-15          200000000       1242520711   \n",
       "\n",
       "     gross_profit release_month release_day  \n",
       "4      1748134200         April      Friday  \n",
       "3      1747311220      December      Friday  \n",
       "13     1433854864          June      Friday  \n",
       "21     1328722794         April      Friday  \n",
       "14     1148258224      February      Friday  \n",
       "44     1135772799          June      Friday  \n",
       "52     1099199706         March      Friday  \n",
       "155    1086336173          July      Friday  \n",
       "1      1072413963           May      Friday  \n",
       "15     1042520711          June      Friday  "
      ]
     },
     "execution_count": 49,
     "metadata": {},
     "output_type": "execute_result"
    }
   ],
   "source": [
    "# sorting the dataframe by gross profit in descending order\n",
    "bom_moviebudgets_df_sorted = bom_moviebudgets_df.sort_values(by= 'gross_profit', ascending=False)\n",
    "bom_moviebudgets_df_sorted.head(10)"
   ]
  },
  {
   "cell_type": "code",
   "execution_count": 50,
   "metadata": {},
   "outputs": [
    {
     "data": {
      "text/plain": [
       "(938, 10)"
      ]
     },
     "execution_count": 50,
     "metadata": {},
     "output_type": "execute_result"
    }
   ],
   "source": [
    "# previewing number of rows and columns in the merged dataset.\n",
    "bom_moviebudgets_df_sorted.shape"
   ]
  },
  {
   "cell_type": "code",
   "execution_count": 51,
   "metadata": {},
   "outputs": [
    {
     "data": {
      "text/plain": [
       "title                0\n",
       "domestic_gross       0\n",
       "foreign_gross        0\n",
       "release_year         0\n",
       "release_date         0\n",
       "production_budget    0\n",
       "worldwide_gross      0\n",
       "gross_profit         0\n",
       "release_month        0\n",
       "release_day          0\n",
       "dtype: int64"
      ]
     },
     "execution_count": 51,
     "metadata": {},
     "output_type": "execute_result"
    }
   ],
   "source": [
    "# checking for any null values\n",
    "bom_moviebudgets_df_sorted.isna().sum()"
   ]
  },
  {
   "cell_type": "code",
   "execution_count": 52,
   "metadata": {},
   "outputs": [],
   "source": [
    "#saving the dataframe in current directory as a csv file\n",
    "bom_moviebudgets_df_sorted.to_csv('./bom_moviebudgets_df_sorted.csv')"
   ]
  },
  {
   "cell_type": "markdown",
   "metadata": {},
   "source": [
    "Lastly I performed an inner join/ merge on the imdb_merged dataframe and the earlier merged box office mojo and movie_budgets dataframes to link the movie release details and finacials to their respective genres."
   ]
  },
  {
   "cell_type": "code",
   "execution_count": 53,
   "metadata": {},
   "outputs": [
    {
     "data": {
      "text/html": [
       "<div>\n",
       "<style scoped>\n",
       "    .dataframe tbody tr th:only-of-type {\n",
       "        vertical-align: middle;\n",
       "    }\n",
       "\n",
       "    .dataframe tbody tr th {\n",
       "        vertical-align: top;\n",
       "    }\n",
       "\n",
       "    .dataframe thead th {\n",
       "        text-align: right;\n",
       "    }\n",
       "</style>\n",
       "<table border=\"1\" class=\"dataframe\">\n",
       "  <thead>\n",
       "    <tr style=\"text-align: right;\">\n",
       "      <th></th>\n",
       "      <th>title</th>\n",
       "      <th>genres</th>\n",
       "      <th>rating</th>\n",
       "      <th>domestic_gross</th>\n",
       "      <th>foreign_gross</th>\n",
       "      <th>release_year</th>\n",
       "      <th>release_date</th>\n",
       "      <th>production_budget</th>\n",
       "      <th>worldwide_gross</th>\n",
       "      <th>gross_profit</th>\n",
       "      <th>release_month</th>\n",
       "      <th>release_day</th>\n",
       "    </tr>\n",
       "  </thead>\n",
       "  <tbody>\n",
       "    <tr>\n",
       "      <th>0</th>\n",
       "      <td>Jurassic World</td>\n",
       "      <td>Action,Adventure,Sci-Fi</td>\n",
       "      <td>7.00</td>\n",
       "      <td>652270625</td>\n",
       "      <td>996584239</td>\n",
       "      <td>2015</td>\n",
       "      <td>2015-06-12</td>\n",
       "      <td>215000000</td>\n",
       "      <td>1648854864</td>\n",
       "      <td>1433854864</td>\n",
       "      <td>June</td>\n",
       "      <td>Friday</td>\n",
       "    </tr>\n",
       "    <tr>\n",
       "      <th>1</th>\n",
       "      <td>Alita: Battle Angel</td>\n",
       "      <td>Action,Adventure,Sci-Fi</td>\n",
       "      <td>7.50</td>\n",
       "      <td>85710210</td>\n",
       "      <td>317265826</td>\n",
       "      <td>2019</td>\n",
       "      <td>2019-02-14</td>\n",
       "      <td>170000000</td>\n",
       "      <td>402976036</td>\n",
       "      <td>232976036</td>\n",
       "      <td>February</td>\n",
       "      <td>Thursday</td>\n",
       "    </tr>\n",
       "    <tr>\n",
       "      <th>2</th>\n",
       "      <td>Before We Go</td>\n",
       "      <td>Comedy,Drama,Romance</td>\n",
       "      <td>6.80</td>\n",
       "      <td>37151</td>\n",
       "      <td>446787</td>\n",
       "      <td>2015</td>\n",
       "      <td>2015-09-04</td>\n",
       "      <td>3000000</td>\n",
       "      <td>483938</td>\n",
       "      <td>-2516062</td>\n",
       "      <td>September</td>\n",
       "      <td>Friday</td>\n",
       "    </tr>\n",
       "    <tr>\n",
       "      <th>3</th>\n",
       "      <td>Before We Go</td>\n",
       "      <td>Documentary,Drama,News</td>\n",
       "      <td>7.00</td>\n",
       "      <td>37151</td>\n",
       "      <td>446787</td>\n",
       "      <td>2015</td>\n",
       "      <td>2015-09-04</td>\n",
       "      <td>3000000</td>\n",
       "      <td>483938</td>\n",
       "      <td>-2516062</td>\n",
       "      <td>September</td>\n",
       "      <td>Friday</td>\n",
       "    </tr>\n",
       "    <tr>\n",
       "      <th>4</th>\n",
       "      <td>The History of Love</td>\n",
       "      <td>Drama,Romance,War</td>\n",
       "      <td>6.30</td>\n",
       "      <td>0</td>\n",
       "      <td>476624</td>\n",
       "      <td>2016</td>\n",
       "      <td>2016-11-18</td>\n",
       "      <td>20000000</td>\n",
       "      <td>476624</td>\n",
       "      <td>-19523376</td>\n",
       "      <td>November</td>\n",
       "      <td>Friday</td>\n",
       "    </tr>\n",
       "  </tbody>\n",
       "</table>\n",
       "</div>"
      ],
      "text/plain": [
       "                 title                   genres  rating  domestic_gross  \\\n",
       "0       Jurassic World  Action,Adventure,Sci-Fi    7.00       652270625   \n",
       "1  Alita: Battle Angel  Action,Adventure,Sci-Fi    7.50        85710210   \n",
       "2         Before We Go     Comedy,Drama,Romance    6.80           37151   \n",
       "3         Before We Go   Documentary,Drama,News    7.00           37151   \n",
       "4  The History of Love        Drama,Romance,War    6.30               0   \n",
       "\n",
       "   foreign_gross  release_year release_date  production_budget  \\\n",
       "0      996584239          2015   2015-06-12          215000000   \n",
       "1      317265826          2019   2019-02-14          170000000   \n",
       "2         446787          2015   2015-09-04            3000000   \n",
       "3         446787          2015   2015-09-04            3000000   \n",
       "4         476624          2016   2016-11-18           20000000   \n",
       "\n",
       "   worldwide_gross  gross_profit release_month release_day  \n",
       "0       1648854864    1433854864          June      Friday  \n",
       "1        402976036     232976036      February    Thursday  \n",
       "2           483938      -2516062     September      Friday  \n",
       "3           483938      -2516062     September      Friday  \n",
       "4           476624     -19523376      November      Friday  "
      ]
     },
     "execution_count": 53,
     "metadata": {},
     "output_type": "execute_result"
    }
   ],
   "source": [
    "# merging the imdb_merged dataframe to the bom_moviebudgets dataframe\n",
    "imdb_bom_moviebudgets_df = pd.merge(imdb_merged_df, bom_moviebudgets_df, how='inner')\n",
    "# previewing merged dataframe\n",
    "imdb_bom_moviebudgets_df.head()"
   ]
  },
  {
   "cell_type": "code",
   "execution_count": 54,
   "metadata": {},
   "outputs": [
    {
     "data": {
      "text/html": [
       "<div>\n",
       "<style scoped>\n",
       "    .dataframe tbody tr th:only-of-type {\n",
       "        vertical-align: middle;\n",
       "    }\n",
       "\n",
       "    .dataframe tbody tr th {\n",
       "        vertical-align: top;\n",
       "    }\n",
       "\n",
       "    .dataframe thead th {\n",
       "        text-align: right;\n",
       "    }\n",
       "</style>\n",
       "<table border=\"1\" class=\"dataframe\">\n",
       "  <thead>\n",
       "    <tr style=\"text-align: right;\">\n",
       "      <th></th>\n",
       "      <th>title</th>\n",
       "      <th>genres</th>\n",
       "      <th>rating</th>\n",
       "      <th>domestic_gross</th>\n",
       "      <th>foreign_gross</th>\n",
       "      <th>release_year</th>\n",
       "      <th>release_date</th>\n",
       "      <th>production_budget</th>\n",
       "      <th>worldwide_gross</th>\n",
       "      <th>gross_profit</th>\n",
       "      <th>release_month</th>\n",
       "      <th>release_day</th>\n",
       "    </tr>\n",
       "  </thead>\n",
       "  <tbody>\n",
       "    <tr>\n",
       "      <th>788</th>\n",
       "      <td>Avengers: Infinity War</td>\n",
       "      <td>Action,Adventure,Sci-Fi</td>\n",
       "      <td>8.50</td>\n",
       "      <td>678815482</td>\n",
       "      <td>1369318718</td>\n",
       "      <td>2018</td>\n",
       "      <td>2018-04-27</td>\n",
       "      <td>300000000</td>\n",
       "      <td>2048134200</td>\n",
       "      <td>1748134200</td>\n",
       "      <td>April</td>\n",
       "      <td>Friday</td>\n",
       "    </tr>\n",
       "    <tr>\n",
       "      <th>0</th>\n",
       "      <td>Jurassic World</td>\n",
       "      <td>Action,Adventure,Sci-Fi</td>\n",
       "      <td>7.00</td>\n",
       "      <td>652270625</td>\n",
       "      <td>996584239</td>\n",
       "      <td>2015</td>\n",
       "      <td>2015-06-12</td>\n",
       "      <td>215000000</td>\n",
       "      <td>1648854864</td>\n",
       "      <td>1433854864</td>\n",
       "      <td>June</td>\n",
       "      <td>Friday</td>\n",
       "    </tr>\n",
       "    <tr>\n",
       "      <th>577</th>\n",
       "      <td>Furious 7</td>\n",
       "      <td>Action,Crime,Thriller</td>\n",
       "      <td>7.20</td>\n",
       "      <td>353007020</td>\n",
       "      <td>1165715774</td>\n",
       "      <td>2015</td>\n",
       "      <td>2015-04-03</td>\n",
       "      <td>190000000</td>\n",
       "      <td>1518722794</td>\n",
       "      <td>1328722794</td>\n",
       "      <td>April</td>\n",
       "      <td>Friday</td>\n",
       "    </tr>\n",
       "    <tr>\n",
       "      <th>475</th>\n",
       "      <td>Avengers: Age of Ultron</td>\n",
       "      <td>Action,Adventure,Sci-Fi</td>\n",
       "      <td>7.30</td>\n",
       "      <td>459005868</td>\n",
       "      <td>944008095</td>\n",
       "      <td>2015</td>\n",
       "      <td>2015-05-01</td>\n",
       "      <td>330600000</td>\n",
       "      <td>1403013963</td>\n",
       "      <td>1072413963</td>\n",
       "      <td>May</td>\n",
       "      <td>Friday</td>\n",
       "    </tr>\n",
       "    <tr>\n",
       "      <th>255</th>\n",
       "      <td>Black Panther</td>\n",
       "      <td>Action,Adventure,Sci-Fi</td>\n",
       "      <td>7.30</td>\n",
       "      <td>700059566</td>\n",
       "      <td>648198658</td>\n",
       "      <td>2018</td>\n",
       "      <td>2018-02-16</td>\n",
       "      <td>200000000</td>\n",
       "      <td>1348258224</td>\n",
       "      <td>1148258224</td>\n",
       "      <td>February</td>\n",
       "      <td>Friday</td>\n",
       "    </tr>\n",
       "  </tbody>\n",
       "</table>\n",
       "</div>"
      ],
      "text/plain": [
       "                       title                   genres  rating  domestic_gross  \\\n",
       "788   Avengers: Infinity War  Action,Adventure,Sci-Fi    8.50       678815482   \n",
       "0             Jurassic World  Action,Adventure,Sci-Fi    7.00       652270625   \n",
       "577                Furious 7    Action,Crime,Thriller    7.20       353007020   \n",
       "475  Avengers: Age of Ultron  Action,Adventure,Sci-Fi    7.30       459005868   \n",
       "255            Black Panther  Action,Adventure,Sci-Fi    7.30       700059566   \n",
       "\n",
       "     foreign_gross  release_year release_date  production_budget  \\\n",
       "788     1369318718          2018   2018-04-27          300000000   \n",
       "0        996584239          2015   2015-06-12          215000000   \n",
       "577     1165715774          2015   2015-04-03          190000000   \n",
       "475      944008095          2015   2015-05-01          330600000   \n",
       "255      648198658          2018   2018-02-16          200000000   \n",
       "\n",
       "     worldwide_gross  gross_profit release_month release_day  \n",
       "788       2048134200    1748134200         April      Friday  \n",
       "0         1648854864    1433854864          June      Friday  \n",
       "577       1518722794    1328722794         April      Friday  \n",
       "475       1403013963    1072413963           May      Friday  \n",
       "255       1348258224    1148258224      February      Friday  "
      ]
     },
     "execution_count": 54,
     "metadata": {},
     "output_type": "execute_result"
    }
   ],
   "source": [
    "# sorting the values in desecnding order by worldwide gross\n",
    "imdb_bom_moviebudgets_df_sorted = imdb_bom_moviebudgets_df.sort_values(by='worldwide_gross', ascending=False)\n",
    "# previewing sorted dataframe\n",
    "imdb_bom_moviebudgets_df_sorted.head()"
   ]
  },
  {
   "cell_type": "code",
   "execution_count": 55,
   "metadata": {},
   "outputs": [
    {
     "data": {
      "text/plain": [
       "(994, 12)"
      ]
     },
     "execution_count": 55,
     "metadata": {},
     "output_type": "execute_result"
    }
   ],
   "source": [
    "# previewing number of rows and columns in the dataframe\n",
    "imdb_bom_moviebudgets_df_sorted.shape"
   ]
  },
  {
   "cell_type": "code",
   "execution_count": 56,
   "metadata": {},
   "outputs": [
    {
     "data": {
      "text/plain": [
       "title                0\n",
       "genres               0\n",
       "rating               0\n",
       "domestic_gross       0\n",
       "foreign_gross        0\n",
       "release_year         0\n",
       "release_date         0\n",
       "production_budget    0\n",
       "worldwide_gross      0\n",
       "gross_profit         0\n",
       "release_month        0\n",
       "release_day          0\n",
       "dtype: int64"
      ]
     },
     "execution_count": 56,
     "metadata": {},
     "output_type": "execute_result"
    }
   ],
   "source": [
    "# checking for any null values in the dataframe\n",
    "imdb_bom_moviebudgets_df_sorted.isna().sum()"
   ]
  },
  {
   "cell_type": "code",
   "execution_count": 57,
   "metadata": {},
   "outputs": [],
   "source": [
    "#saving the dataframe in current directory as a csv file\n",
    "imdb_bom_moviebudgets_df_sorted.to_csv('./imdb_bom_moviebudgets_df_sorted.csv')"
   ]
  },
  {
   "cell_type": "markdown",
   "metadata": {},
   "source": [
    "## DATA ANALYSIS"
   ]
  },
  {
   "cell_type": "markdown",
   "metadata": {},
   "source": [
    "The focus of my analysis would be on three key factors that I concluded were directly related to a movie's success as I went about cleaning the data. These three factors were the movie genre, the release time(month and day of the week) and the production budget."
   ]
  },
  {
   "cell_type": "markdown",
   "metadata": {},
   "source": [
    "## Genre"
   ]
  },
  {
   "cell_type": "markdown",
   "metadata": {},
   "source": [
    "I decided to plot a histogram showing which genres were most popular."
   ]
  },
  {
   "cell_type": "markdown",
   "metadata": {},
   "source": [
    "I knew I would have a difficult time trying to visualize all the different genres seeing as some movies had more than two genres associated with them. I decided to define a function that would aggregate the genres into different categories of genres in the film industry."
   ]
  },
  {
   "cell_type": "code",
   "execution_count": 58,
   "metadata": {},
   "outputs": [
    {
     "data": {
      "text/html": [
       "<div>\n",
       "<style scoped>\n",
       "    .dataframe tbody tr th:only-of-type {\n",
       "        vertical-align: middle;\n",
       "    }\n",
       "\n",
       "    .dataframe tbody tr th {\n",
       "        vertical-align: top;\n",
       "    }\n",
       "\n",
       "    .dataframe thead th {\n",
       "        text-align: right;\n",
       "    }\n",
       "</style>\n",
       "<table border=\"1\" class=\"dataframe\">\n",
       "  <thead>\n",
       "    <tr style=\"text-align: right;\">\n",
       "      <th></th>\n",
       "      <th>genre</th>\n",
       "      <th>count</th>\n",
       "    </tr>\n",
       "  </thead>\n",
       "  <tbody>\n",
       "    <tr>\n",
       "      <th>0</th>\n",
       "      <td>Action</td>\n",
       "      <td>259</td>\n",
       "    </tr>\n",
       "    <tr>\n",
       "      <th>7</th>\n",
       "      <td>Drama</td>\n",
       "      <td>214</td>\n",
       "    </tr>\n",
       "    <tr>\n",
       "      <th>4</th>\n",
       "      <td>Comedy</td>\n",
       "      <td>145</td>\n",
       "    </tr>\n",
       "    <tr>\n",
       "      <th>1</th>\n",
       "      <td>Adventure</td>\n",
       "      <td>94</td>\n",
       "    </tr>\n",
       "    <tr>\n",
       "      <th>3</th>\n",
       "      <td>Biography</td>\n",
       "      <td>82</td>\n",
       "    </tr>\n",
       "  </tbody>\n",
       "</table>\n",
       "</div>"
      ],
      "text/plain": [
       "       genre  count\n",
       "0     Action    259\n",
       "7      Drama    214\n",
       "4     Comedy    145\n",
       "1  Adventure     94\n",
       "3  Biography     82"
      ]
     },
     "execution_count": 58,
     "metadata": {},
     "output_type": "execute_result"
    }
   ],
   "source": [
    "# defining the function\n",
    "def count_movie_genres(genres_column):\n",
    "    '''\n",
    "    This function accepts a column of genres as its input and loops \n",
    "    through it extracting the first element from a list of strings \n",
    "    separated by commas. It assumes the first element is the main movie \n",
    "    genre and confirms its presence in the movie_genres list. It then loops\n",
    "    over all the elements increasing their count value by 1 whenever the specific \n",
    "    genre is encountered\n",
    "    '''\n",
    "# stating the main movie genres to classify by\n",
    "    movie_genres = ['Action', 'Adventure', 'Animation', 'Biography', 'Comedy', 'Crime', 'Documentary', 'Drama',\n",
    "                   'Family', 'Fantasy', 'History', 'Horror', 'Music', 'Mystery', 'Romance', 'Sci-Fi', 'Sport',\n",
    "                   'Thriller', 'War']\n",
    "# starting count per genre at 0\n",
    "    genre_count = {genre: 0 for genre in movie_genres}\n",
    "# looping over all elements in the column and incrementing genres and their counts    \n",
    "    for genres in genres_column:\n",
    "        movie_genre = genres.split(',')[0]\n",
    "        if movie_genre in movie_genres:\n",
    "            genre_count[movie_genre] += 1\n",
    "# expected output\n",
    "    return genre_count\n",
    "# calling the function on the dataframe column\n",
    "genre_count = count_movie_genres(imdb_bom_moviebudgets_df['genres'])\n",
    "# converting dictionary into dataframe\n",
    "genres_df = pd.DataFrame(list(genre_count.items()), columns=['genre', 'count'])\n",
    "# sorting the genres in descending order according to count\n",
    "genres_df_sorted = genres_df.sort_values(by='count', ascending=False)\n",
    "# previewing the dataframe\n",
    "genres_df_sorted.head()"
   ]
  },
  {
   "cell_type": "code",
   "execution_count": 81,
   "metadata": {},
   "outputs": [
    {
     "data": {
      "image/png": "[encoded data removed]",
      "text/plain": [
       "<Figure size 720x576 with 1 Axes>"
      ]
     },
     "metadata": {},
     "output_type": "display_data"
    }
   ],
   "source": [
    "plt.figure(figsize=(10,8))\n",
    "\n",
    "sns.set_theme(style='ticks', palette='deep')\n",
    "sns.barplot(x='count', y='genre', data=genres_df_sorted.head(14))\n",
    "\n",
    "plt.xlabel('Movies Produced', fontsize=18)\n",
    "plt.ylabel('Genre', fontsize=18)\n",
    "plt.title('Count of Movies per Genre', fontsize=20)\n",
    "plt.xticks(fontsize=15)\n",
    "plt.yticks(fontsize=15)\n",
    "plt.tight_layout()\n",
    "#plt.savefig('./fig1.png');"
   ]
  },
  {
   "cell_type": "markdown",
   "metadata": {},
   "source": [
    "Action movies were the most popular genre to produce according to the dataset. Other popular genres were drama, comedy and adventure movies. Next was to assess which genres had the best return on investment in terms of gross profits. Gross profit was determined by the difference between worldwide gross income and production budget. "
   ]
  },
  {
   "cell_type": "markdown",
   "metadata": {},
   "source": [
    "First step was to extract the first value from rows in the genres column inorder to group production budgets and gross profits accordingly."
   ]
  },
  {
   "cell_type": "code",
   "execution_count": 60,
   "metadata": {},
   "outputs": [
    {
     "data": {
      "text/html": [
       "<div>\n",
       "<style scoped>\n",
       "    .dataframe tbody tr th:only-of-type {\n",
       "        vertical-align: middle;\n",
       "    }\n",
       "\n",
       "    .dataframe tbody tr th {\n",
       "        vertical-align: top;\n",
       "    }\n",
       "\n",
       "    .dataframe thead th {\n",
       "        text-align: right;\n",
       "    }\n",
       "</style>\n",
       "<table border=\"1\" class=\"dataframe\">\n",
       "  <thead>\n",
       "    <tr style=\"text-align: right;\">\n",
       "      <th></th>\n",
       "      <th>title</th>\n",
       "      <th>genres</th>\n",
       "      <th>rating</th>\n",
       "      <th>domestic_gross</th>\n",
       "      <th>foreign_gross</th>\n",
       "      <th>release_year</th>\n",
       "      <th>release_date</th>\n",
       "      <th>production_budget</th>\n",
       "      <th>worldwide_gross</th>\n",
       "      <th>gross_profit</th>\n",
       "      <th>release_month</th>\n",
       "      <th>release_day</th>\n",
       "    </tr>\n",
       "  </thead>\n",
       "  <tbody>\n",
       "    <tr>\n",
       "      <th>0</th>\n",
       "      <td>Jurassic World</td>\n",
       "      <td>Action</td>\n",
       "      <td>7.00</td>\n",
       "      <td>652270625</td>\n",
       "      <td>996584239</td>\n",
       "      <td>2015</td>\n",
       "      <td>2015-06-12</td>\n",
       "      <td>215000000</td>\n",
       "      <td>1648854864</td>\n",
       "      <td>1433854864</td>\n",
       "      <td>June</td>\n",
       "      <td>Friday</td>\n",
       "    </tr>\n",
       "    <tr>\n",
       "      <th>1</th>\n",
       "      <td>Alita: Battle Angel</td>\n",
       "      <td>Action</td>\n",
       "      <td>7.50</td>\n",
       "      <td>85710210</td>\n",
       "      <td>317265826</td>\n",
       "      <td>2019</td>\n",
       "      <td>2019-02-14</td>\n",
       "      <td>170000000</td>\n",
       "      <td>402976036</td>\n",
       "      <td>232976036</td>\n",
       "      <td>February</td>\n",
       "      <td>Thursday</td>\n",
       "    </tr>\n",
       "    <tr>\n",
       "      <th>2</th>\n",
       "      <td>Before We Go</td>\n",
       "      <td>Comedy</td>\n",
       "      <td>6.80</td>\n",
       "      <td>37151</td>\n",
       "      <td>446787</td>\n",
       "      <td>2015</td>\n",
       "      <td>2015-09-04</td>\n",
       "      <td>3000000</td>\n",
       "      <td>483938</td>\n",
       "      <td>-2516062</td>\n",
       "      <td>September</td>\n",
       "      <td>Friday</td>\n",
       "    </tr>\n",
       "    <tr>\n",
       "      <th>3</th>\n",
       "      <td>Before We Go</td>\n",
       "      <td>Documentary</td>\n",
       "      <td>7.00</td>\n",
       "      <td>37151</td>\n",
       "      <td>446787</td>\n",
       "      <td>2015</td>\n",
       "      <td>2015-09-04</td>\n",
       "      <td>3000000</td>\n",
       "      <td>483938</td>\n",
       "      <td>-2516062</td>\n",
       "      <td>September</td>\n",
       "      <td>Friday</td>\n",
       "    </tr>\n",
       "    <tr>\n",
       "      <th>4</th>\n",
       "      <td>The History of Love</td>\n",
       "      <td>Drama</td>\n",
       "      <td>6.30</td>\n",
       "      <td>0</td>\n",
       "      <td>476624</td>\n",
       "      <td>2016</td>\n",
       "      <td>2016-11-18</td>\n",
       "      <td>20000000</td>\n",
       "      <td>476624</td>\n",
       "      <td>-19523376</td>\n",
       "      <td>November</td>\n",
       "      <td>Friday</td>\n",
       "    </tr>\n",
       "    <tr>\n",
       "      <th>...</th>\n",
       "      <td>...</td>\n",
       "      <td>...</td>\n",
       "      <td>...</td>\n",
       "      <td>...</td>\n",
       "      <td>...</td>\n",
       "      <td>...</td>\n",
       "      <td>...</td>\n",
       "      <td>...</td>\n",
       "      <td>...</td>\n",
       "      <td>...</td>\n",
       "      <td>...</td>\n",
       "      <td>...</td>\n",
       "    </tr>\n",
       "    <tr>\n",
       "      <th>989</th>\n",
       "      <td>Teefa in Trouble</td>\n",
       "      <td>Action</td>\n",
       "      <td>7.40</td>\n",
       "      <td>0</td>\n",
       "      <td>98806</td>\n",
       "      <td>2018</td>\n",
       "      <td>2018-07-20</td>\n",
       "      <td>1500000</td>\n",
       "      <td>98806</td>\n",
       "      <td>-1401194</td>\n",
       "      <td>July</td>\n",
       "      <td>Friday</td>\n",
       "    </tr>\n",
       "    <tr>\n",
       "      <th>990</th>\n",
       "      <td>Happy Death Day 2U</td>\n",
       "      <td>Drama</td>\n",
       "      <td>6.30</td>\n",
       "      <td>28051045</td>\n",
       "      <td>36128450</td>\n",
       "      <td>2019</td>\n",
       "      <td>2019-02-13</td>\n",
       "      <td>9000000</td>\n",
       "      <td>64179495</td>\n",
       "      <td>55179495</td>\n",
       "      <td>February</td>\n",
       "      <td>Wednesday</td>\n",
       "    </tr>\n",
       "    <tr>\n",
       "      <th>991</th>\n",
       "      <td>Blinded by the Light</td>\n",
       "      <td>Biography</td>\n",
       "      <td>6.20</td>\n",
       "      <td>0</td>\n",
       "      <td>0</td>\n",
       "      <td>2019</td>\n",
       "      <td>2019-08-14</td>\n",
       "      <td>15000000</td>\n",
       "      <td>0</td>\n",
       "      <td>-15000000</td>\n",
       "      <td>August</td>\n",
       "      <td>Wednesday</td>\n",
       "    </tr>\n",
       "    <tr>\n",
       "      <th>992</th>\n",
       "      <td>Fahrenheit 11/9</td>\n",
       "      <td>Documentary</td>\n",
       "      <td>6.70</td>\n",
       "      <td>6352306</td>\n",
       "      <td>301409</td>\n",
       "      <td>2018</td>\n",
       "      <td>2018-09-21</td>\n",
       "      <td>5000000</td>\n",
       "      <td>6653715</td>\n",
       "      <td>1653715</td>\n",
       "      <td>September</td>\n",
       "      <td>Friday</td>\n",
       "    </tr>\n",
       "    <tr>\n",
       "      <th>993</th>\n",
       "      <td>Unplanned</td>\n",
       "      <td>Biography</td>\n",
       "      <td>6.30</td>\n",
       "      <td>18107621</td>\n",
       "      <td>0</td>\n",
       "      <td>2019</td>\n",
       "      <td>2019-03-29</td>\n",
       "      <td>6000000</td>\n",
       "      <td>18107621</td>\n",
       "      <td>12107621</td>\n",
       "      <td>March</td>\n",
       "      <td>Friday</td>\n",
       "    </tr>\n",
       "  </tbody>\n",
       "</table>\n",
       "<p>994 rows × 12 columns</p>\n",
       "</div>"
      ],
      "text/plain": [
       "                    title       genres  rating  domestic_gross  foreign_gross  \\\n",
       "0          Jurassic World       Action    7.00       652270625      996584239   \n",
       "1     Alita: Battle Angel       Action    7.50        85710210      317265826   \n",
       "2            Before We Go       Comedy    6.80           37151         446787   \n",
       "3            Before We Go  Documentary    7.00           37151         446787   \n",
       "4     The History of Love        Drama    6.30               0         476624   \n",
       "..                    ...          ...     ...             ...            ...   \n",
       "989      Teefa in Trouble       Action    7.40               0          98806   \n",
       "990    Happy Death Day 2U        Drama    6.30        28051045       36128450   \n",
       "991  Blinded by the Light    Biography    6.20               0              0   \n",
       "992       Fahrenheit 11/9  Documentary    6.70         6352306         301409   \n",
       "993             Unplanned    Biography    6.30        18107621              0   \n",
       "\n",
       "     release_year release_date  production_budget  worldwide_gross  \\\n",
       "0            2015   2015-06-12          215000000       1648854864   \n",
       "1            2019   2019-02-14          170000000        402976036   \n",
       "2            2015   2015-09-04            3000000           483938   \n",
       "3            2015   2015-09-04            3000000           483938   \n",
       "4            2016   2016-11-18           20000000           476624   \n",
       "..            ...          ...                ...              ...   \n",
       "989          2018   2018-07-20            1500000            98806   \n",
       "990          2019   2019-02-13            9000000         64179495   \n",
       "991          2019   2019-08-14           15000000                0   \n",
       "992          2018   2018-09-21            5000000          6653715   \n",
       "993          2019   2019-03-29            6000000         18107621   \n",
       "\n",
       "     gross_profit release_month release_day  \n",
       "0      1433854864          June      Friday  \n",
       "1       232976036      February    Thursday  \n",
       "2        -2516062     September      Friday  \n",
       "3        -2516062     September      Friday  \n",
       "4       -19523376      November      Friday  \n",
       "..            ...           ...         ...  \n",
       "989      -1401194          July      Friday  \n",
       "990      55179495      February   Wednesday  \n",
       "991     -15000000        August   Wednesday  \n",
       "992       1653715     September      Friday  \n",
       "993      12107621         March      Friday  \n",
       "\n",
       "[994 rows x 12 columns]"
      ]
     },
     "execution_count": 60,
     "metadata": {},
     "output_type": "execute_result"
    }
   ],
   "source": [
    "# applying a lambda function to the genres column to retrieve the first genre\n",
    "# associated with a movie\n",
    "imdb_bom_moviebudgets_df['genres'] = imdb_bom_moviebudgets_df['genres'].apply(lambda x: x.split(',')[0])\n",
    "# previewing dataframe\n",
    "imdb_bom_moviebudgets_df\n"
   ]
  },
  {
   "cell_type": "markdown",
   "metadata": {},
   "source": [
    "Next step was to convert values in the production budget, gross profits, worldwide, foreign and domestic gross  to millions using a lambda function."
   ]
  },
  {
   "cell_type": "code",
   "execution_count": 61,
   "metadata": {},
   "outputs": [
    {
     "data": {
      "text/html": [
       "<div>\n",
       "<style scoped>\n",
       "    .dataframe tbody tr th:only-of-type {\n",
       "        vertical-align: middle;\n",
       "    }\n",
       "\n",
       "    .dataframe tbody tr th {\n",
       "        vertical-align: top;\n",
       "    }\n",
       "\n",
       "    .dataframe thead th {\n",
       "        text-align: right;\n",
       "    }\n",
       "</style>\n",
       "<table border=\"1\" class=\"dataframe\">\n",
       "  <thead>\n",
       "    <tr style=\"text-align: right;\">\n",
       "      <th></th>\n",
       "      <th>title</th>\n",
       "      <th>genres</th>\n",
       "      <th>rating</th>\n",
       "      <th>domestic_gross</th>\n",
       "      <th>foreign_gross</th>\n",
       "      <th>release_year</th>\n",
       "      <th>release_date</th>\n",
       "      <th>production_budget</th>\n",
       "      <th>worldwide_gross</th>\n",
       "      <th>gross_profit</th>\n",
       "      <th>release_month</th>\n",
       "      <th>release_day</th>\n",
       "      <th>gross_profits_mil</th>\n",
       "      <th>production_budget_mil</th>\n",
       "      <th>world_gross_mil</th>\n",
       "      <th>dom_gross_mil</th>\n",
       "      <th>foreign_gross_mil</th>\n",
       "    </tr>\n",
       "  </thead>\n",
       "  <tbody>\n",
       "    <tr>\n",
       "      <th>0</th>\n",
       "      <td>Jurassic World</td>\n",
       "      <td>Action</td>\n",
       "      <td>7.00</td>\n",
       "      <td>652270625</td>\n",
       "      <td>996584239</td>\n",
       "      <td>2015</td>\n",
       "      <td>2015-06-12</td>\n",
       "      <td>215000000</td>\n",
       "      <td>1648854864</td>\n",
       "      <td>1433854864</td>\n",
       "      <td>June</td>\n",
       "      <td>Friday</td>\n",
       "      <td>1433.85</td>\n",
       "      <td>215.00</td>\n",
       "      <td>1648.85</td>\n",
       "      <td>652.27</td>\n",
       "      <td>996.58</td>\n",
       "    </tr>\n",
       "    <tr>\n",
       "      <th>1</th>\n",
       "      <td>Alita: Battle Angel</td>\n",
       "      <td>Action</td>\n",
       "      <td>7.50</td>\n",
       "      <td>85710210</td>\n",
       "      <td>317265826</td>\n",
       "      <td>2019</td>\n",
       "      <td>2019-02-14</td>\n",
       "      <td>170000000</td>\n",
       "      <td>402976036</td>\n",
       "      <td>232976036</td>\n",
       "      <td>February</td>\n",
       "      <td>Thursday</td>\n",
       "      <td>232.98</td>\n",
       "      <td>170.00</td>\n",
       "      <td>402.98</td>\n",
       "      <td>85.71</td>\n",
       "      <td>317.27</td>\n",
       "    </tr>\n",
       "    <tr>\n",
       "      <th>2</th>\n",
       "      <td>Before We Go</td>\n",
       "      <td>Comedy</td>\n",
       "      <td>6.80</td>\n",
       "      <td>37151</td>\n",
       "      <td>446787</td>\n",
       "      <td>2015</td>\n",
       "      <td>2015-09-04</td>\n",
       "      <td>3000000</td>\n",
       "      <td>483938</td>\n",
       "      <td>-2516062</td>\n",
       "      <td>September</td>\n",
       "      <td>Friday</td>\n",
       "      <td>-2.52</td>\n",
       "      <td>3.00</td>\n",
       "      <td>0.48</td>\n",
       "      <td>0.04</td>\n",
       "      <td>0.45</td>\n",
       "    </tr>\n",
       "    <tr>\n",
       "      <th>3</th>\n",
       "      <td>Before We Go</td>\n",
       "      <td>Documentary</td>\n",
       "      <td>7.00</td>\n",
       "      <td>37151</td>\n",
       "      <td>446787</td>\n",
       "      <td>2015</td>\n",
       "      <td>2015-09-04</td>\n",
       "      <td>3000000</td>\n",
       "      <td>483938</td>\n",
       "      <td>-2516062</td>\n",
       "      <td>September</td>\n",
       "      <td>Friday</td>\n",
       "      <td>-2.52</td>\n",
       "      <td>3.00</td>\n",
       "      <td>0.48</td>\n",
       "      <td>0.04</td>\n",
       "      <td>0.45</td>\n",
       "    </tr>\n",
       "    <tr>\n",
       "      <th>4</th>\n",
       "      <td>The History of Love</td>\n",
       "      <td>Drama</td>\n",
       "      <td>6.30</td>\n",
       "      <td>0</td>\n",
       "      <td>476624</td>\n",
       "      <td>2016</td>\n",
       "      <td>2016-11-18</td>\n",
       "      <td>20000000</td>\n",
       "      <td>476624</td>\n",
       "      <td>-19523376</td>\n",
       "      <td>November</td>\n",
       "      <td>Friday</td>\n",
       "      <td>-19.52</td>\n",
       "      <td>20.00</td>\n",
       "      <td>0.48</td>\n",
       "      <td>0.00</td>\n",
       "      <td>0.48</td>\n",
       "    </tr>\n",
       "  </tbody>\n",
       "</table>\n",
       "</div>"
      ],
      "text/plain": [
       "                 title       genres  rating  domestic_gross  foreign_gross  \\\n",
       "0       Jurassic World       Action    7.00       652270625      996584239   \n",
       "1  Alita: Battle Angel       Action    7.50        85710210      317265826   \n",
       "2         Before We Go       Comedy    6.80           37151         446787   \n",
       "3         Before We Go  Documentary    7.00           37151         446787   \n",
       "4  The History of Love        Drama    6.30               0         476624   \n",
       "\n",
       "   release_year release_date  production_budget  worldwide_gross  \\\n",
       "0          2015   2015-06-12          215000000       1648854864   \n",
       "1          2019   2019-02-14          170000000        402976036   \n",
       "2          2015   2015-09-04            3000000           483938   \n",
       "3          2015   2015-09-04            3000000           483938   \n",
       "4          2016   2016-11-18           20000000           476624   \n",
       "\n",
       "   gross_profit release_month release_day  gross_profits_mil  \\\n",
       "0    1433854864          June      Friday            1433.85   \n",
       "1     232976036      February    Thursday             232.98   \n",
       "2      -2516062     September      Friday              -2.52   \n",
       "3      -2516062     September      Friday              -2.52   \n",
       "4     -19523376      November      Friday             -19.52   \n",
       "\n",
       "   production_budget_mil  world_gross_mil  dom_gross_mil  foreign_gross_mil  \n",
       "0                 215.00          1648.85         652.27             996.58  \n",
       "1                 170.00           402.98          85.71             317.27  \n",
       "2                   3.00             0.48           0.04               0.45  \n",
       "3                   3.00             0.48           0.04               0.45  \n",
       "4                  20.00             0.48           0.00               0.48  "
      ]
     },
     "execution_count": 61,
     "metadata": {},
     "output_type": "execute_result"
    }
   ],
   "source": [
    "# defining the lambda function\n",
    "lambda_function = lambda x: x / 1000000\n",
    "# applying lambda function to production budget, gross profits, \n",
    "# worldwide, foreign and domestic gross and creating new columns for values in million\n",
    "imdb_bom_moviebudgets_df['gross_profits_mil'] = imdb_bom_moviebudgets_df['gross_profit'].apply(lambda_function)\n",
    "imdb_bom_moviebudgets_df['production_budget_mil'] = imdb_bom_moviebudgets_df['production_budget'].apply(lambda_function)\n",
    "imdb_bom_moviebudgets_df['world_gross_mil'] = imdb_bom_moviebudgets_df['worldwide_gross'].apply(lambda_function)\n",
    "imdb_bom_moviebudgets_df['dom_gross_mil'] = imdb_bom_moviebudgets_df['domestic_gross'].apply(lambda_function)\n",
    "imdb_bom_moviebudgets_df['foreign_gross_mil'] = imdb_bom_moviebudgets_df['foreign_gross'].apply(lambda_function)\n",
    "# previewing changes\n",
    "imdb_bom_moviebudgets_df.head()"
   ]
  },
  {
   "cell_type": "code",
   "execution_count": 122,
   "metadata": {},
   "outputs": [
    {
     "data": {
      "image/png": "[encoded data removed]",
      "text/plain": [
       "<Figure size 720x576 with 1 Axes>"
      ]
     },
     "metadata": {},
     "output_type": "display_data"
    }
   ],
   "source": [
    "# Grouping by genre and summing up production budgets and gross profits in million\n",
    "grouped_df = imdb_bom_moviebudgets_df.groupby('genres')[['production_budget_mil', 'gross_profits_mil']].sum().reset_index()\n",
    "\n",
    "sns.set_theme(style='ticks')\n",
    "\n",
    "plt.figure(figsize=(10, 8))\n",
    "sns.barplot(data=grouped_df, x='genres', y='production_budget_mil', label='Production Budget', color='orange')\n",
    "sns.barplot(data=grouped_df, x='genres', y='gross_profits_mil', label='Gross Profits', color='green', \n",
    "            bottom=grouped_df['production_budget_mil'])\n",
    "plt.xlabel('Genre', fontsize=14)\n",
    "plt.ylabel('Amount in millions($)', fontsize=14)\n",
    "plt.title('Production Budget vs Gross Profits per Genre', fontsize=16)\n",
    "plt.xticks(fontsize=15, rotation=45, ha='right')\n",
    "plt.yticks(fontsize=15)\n",
    "plt.legend()\n",
    "plt.tight_layout()\n",
    "#plt.savefig('./fig2.png');"
   ]
  },
  {
   "cell_type": "markdown",
   "metadata": {},
   "source": [
    "Action movies continued to stand out by raking in the highest gross profits compared to production budget. This is even though action movies had a significantly higher production budget.\n",
    "Adventure films seemed to have almost the same production budget as dramas but they posted higher gross profits than dramas. Microsoft would do well to consider those three genres in order to see a sizeable return on their investment."
   ]
  },
  {
   "cell_type": "markdown",
   "metadata": {},
   "source": [
    "## Release day and month"
   ]
  },
  {
   "cell_type": "markdown",
   "metadata": {},
   "source": [
    "Next I looked at how release timings affect the success of a film. I wanted to see how the release month and day of the week impacted how a movie would perform. "
   ]
  },
  {
   "cell_type": "code",
   "execution_count": 108,
   "metadata": {},
   "outputs": [
    {
     "data": {
      "image/png": "[encoded data removed]",
      "text/plain": [
       "<Figure size 720x576 with 1 Axes>"
      ]
     },
     "metadata": {},
     "output_type": "display_data"
    }
   ],
   "source": [
    "# Getting value counts of release_month column \n",
    "months = imdb_bom_moviebudgets_df['release_month'].value_counts().reset_index()\n",
    "months.columns = ['Month', 'Number of Movies']\n",
    "sns.set_theme(style='ticks')\n",
    "# Plotting variation of movie releases by month \n",
    "plt.figure(figsize=(10, 8))\n",
    "sns.barplot(data=months, x='Month', y='Number of Movies', palette='husl',\n",
    "           order = ['January', 'February', 'March', 'April', 'May', 'June', \n",
    "               'July', 'August', 'September', 'October', 'November', 'December'])\n",
    "plt.title('Variation of Movie Releases by Month', fontsize=16)\n",
    "plt.xlabel('Release Month', fontsize=16)\n",
    "plt.ylabel('Number of Movies', fontsize=16)\n",
    "plt.xticks(rotation=45, ha='right')\n",
    "plt.tight_layout();\n",
    "#plt.savefig('./fig3.png');"
   ]
  },
  {
   "cell_type": "markdown",
   "metadata": {},
   "source": [
    "Most releases occured in March and December with the lowest release month being July."
   ]
  },
  {
   "cell_type": "code",
   "execution_count": 187,
   "metadata": {},
   "outputs": [
    {
     "data": {
      "image/png": "[encoded data removed]",
      "text/plain": [
       "<Figure size 720x576 with 1 Axes>"
      ]
     },
     "metadata": {},
     "output_type": "display_data"
    }
   ],
   "source": [
    "# Getting value counts of release_day column \n",
    "days = imdb_bom_moviebudgets_df['release_day'].value_counts().reset_index()\n",
    "days.columns = ['Day', 'Number of Movies']\n",
    "# Plotting variation of movie releases by day \n",
    "sns.set_theme(style='ticks')\n",
    "plt.figure(figsize=(10, 8))\n",
    "sns.barplot(data=days, x='Day', y='Number of Movies', palette='flare',\n",
    "           order = ['Monday', 'Tuesday', 'Wednesday', 'Thursday', 'Friday', 'Saturday', 'Sunday'])\n",
    "plt.title('Variation of Movie Releases by Day of the Week', fontsize=20)\n",
    "plt.xlabel('Release Day', fontsize=16)\n",
    "plt.ylabel('Number of Movies', fontsize=16)\n",
    "plt.xticks(rotation=45, ha='right')\n",
    "plt.tight_layout();\n",
    "#plt.savefig('./fig4.png');"
   ]
  },
  {
   "cell_type": "markdown",
   "metadata": {},
   "source": [
    "Its no surprise that most movies are released on friday because studios aim to take advantage of the weekend box office. This gurantees a larger audience as majority of people have free time from friday evenings all through the weekend. "
   ]
  },
  {
   "cell_type": "markdown",
   "metadata": {},
   "source": [
    "## Budget"
   ]
  },
  {
   "cell_type": "markdown",
   "metadata": {},
   "source": [
    "Next I wanted to establish the relationship between production budget and how much a movie grosses domestically and worldwide."
   ]
  },
  {
   "cell_type": "code",
   "execution_count": 192,
   "metadata": {},
   "outputs": [
    {
     "data": {
      "image/png": "[encoded data removed]",
      "text/plain": [
       "<Figure size 720x360 with 1 Axes>"
      ]
     },
     "metadata": {},
     "output_type": "display_data"
    }
   ],
   "source": [
    "fig.set_size_inches(10,8)\n",
    "sns.set_style('ticks')\n",
    "sns.lmplot(x='production_budget_mil', y='world_gross_mil', \n",
    "           data=imdb_bom_moviebudgets_df.loc[(imdb_bom_moviebudgets_df['genres']=='Action') | \n",
    "                                             (imdb_bom_moviebudgets_df['genres']=='Adventure')],\n",
    "                                             legend=False, hue='genres', aspect=2)\n",
    "plt.xlabel('Budget in Millions ($)', fontsize=16)\n",
    "plt.ylabel('Worldwide Gross in Millions($)', fontsize=16)\n",
    "plt.title('Production Budget vs Worldwide Gross for Action and Adventure Movies', fontsize=18)\n",
    "plt.axhline(y=1000, c='red', ls=':')\n",
    "plt.xticks(fontsize=12)\n",
    "plt.yticks(fontsize=12)\n",
    "plt.legend(loc=2, fontsize=12)\n",
    "plt.tight_layout();\n",
    "#plt.savefig('./fig5.png')"
   ]
  },
  {
   "cell_type": "code",
   "execution_count": null,
   "metadata": {},
   "outputs": [],
   "source": []
  },
  {
   "cell_type": "code",
   "execution_count": 194,
   "metadata": {},
   "outputs": [
    {
     "data": {
      "image/png": "[encoded data removed]",
      "text/plain": [
       "<Figure size 720x360 with 1 Axes>"
      ]
     },
     "metadata": {},
     "output_type": "display_data"
    }
   ],
   "source": [
    "fig.set_size_inches(10,12)\n",
    "sns.set_style('ticks')\n",
    "sns.lmplot(x='production_budget_mil', y='dom_gross_mil',data=imdb_bom_moviebudgets_df.loc\n",
    "                                             [(imdb_bom_moviebudgets_df['genres']=='Action')| \n",
    "                                             (imdb_bom_moviebudgets_df['genres']=='Adventure')],\n",
    "                                            legend=False, hue='genres', aspect=2)\n",
    "\n",
    "plt.xlabel('Budget in Millions ($)', fontsize=16)\n",
    "plt.ylabel('Domestic Gross in Millions($)', fontsize=16)\n",
    "plt.title('Production Budget vs Domestic Gross for Action and Adventure Movies', fontsize=18)\n",
    "plt.axhline(y=300, c='red', ls=':')\n",
    "plt.xticks(fontsize=12)\n",
    "plt.yticks(fontsize=12)\n",
    "plt.legend(loc=2, fontsize=12)\n",
    "plt.tight_layout();\n",
    "#plt.savefig('./fig6.png')"
   ]
  },
  {
   "cell_type": "code",
   "execution_count": null,
   "metadata": {},
   "outputs": [],
   "source": []
  },
  {
   "cell_type": "code",
   "execution_count": 195,
   "metadata": {},
   "outputs": [
    {
     "data": {
      "image/png": "[encoded data removed]",
      "text/plain": [
       "<Figure size 720x576 with 1 Axes>"
      ]
     },
     "metadata": {},
     "output_type": "display_data"
    }
   ],
   "source": [
    "plt.figure(figsize=(10, 8))\n",
    "sns.stripplot( x='genres', y=\"world_gross_mil\", data=imdb_bom_moviebudgets_df, \n",
    "              hue='genres', s=4, palette='husl')\n",
    "plt.xlabel('Genre', fontsize=16)\n",
    "plt.ylabel('Worldwide Gross in Millions', fontsize=16)\n",
    "plt.title('Worldwide Gross for Action and Drama Films', fontsize=20)\n",
    "plt.axhline(y=500, c='red', ls=':')\n",
    "plt.xticks(rotation=45, ha='right', fontsize=12)\n",
    "plt.yticks(fontsize=12)\n",
    "plt.tight_layout();\n",
    "#plt.savefig('./fig7.png')"
   ]
  },
  {
   "cell_type": "code",
   "execution_count": null,
   "metadata": {},
   "outputs": [],
   "source": []
  },
  {
   "cell_type": "code",
   "execution_count": 186,
   "metadata": {},
   "outputs": [
    {
     "data": {
      "image/png": "[encoded data removed]",
      "text/plain": [
       "<Figure size 720x576 with 1 Axes>"
      ]
     },
     "metadata": {},
     "output_type": "display_data"
    }
   ],
   "source": [
    "grouped_df_2 = imdb_bom_moviebudgets_df.groupby('genres')[['production_budget_mil', 'dom_gross_mil', 'world_gross_mil']].sum().reset_index()\n",
    "\n",
    "sns.set_theme(style='ticks')\n",
    "\n",
    "plt.figure(figsize=(10, 8))\n",
    "sns.barplot(data=grouped_df_2, x='genres', y='production_budget_mil', label='Production Budget', color='yellow')\n",
    "sns.barplot(data=grouped_df_2, x='genres', y='dom_gross_mil', label='Domestic Gross', color='purple', \n",
    "            bottom=grouped_df_2['world_gross_mil'])\n",
    "sns.barplot(data=grouped_df_2, x='genres', y='world_gross_mil', label='Worldwide Gross', color='lightgreen', \n",
    "            bottom=grouped_df_2['production_budget_mil'])\n",
    "plt.xlabel('Genre', fontsize=14)\n",
    "plt.ylabel('Amount in millions($)', fontsize=14)\n",
    "plt.title('Production Budget vs Domestic and Worldwide Gross per Genre', fontsize=16)\n",
    "plt.xticks(fontsize=15, rotation=45, ha='right')\n",
    "plt.yticks(fontsize=15)\n",
    "plt.legend()\n",
    "plt.tight_layout()\n",
    "#plt.savefig('./fig8.png');"
   ]
  },
  {
   "cell_type": "markdown",
   "metadata": {},
   "source": [
    "## CONCLUSIONS"
   ]
  },
  {
   "cell_type": "markdown",
   "metadata": {},
   "source": [
    "This is mostly influenced by Easter holiday in March and Christmas in December which is also the peak month of releases. There is an increase in releases in the month of June as this is when most schools in the USA go on a summer break meaning families have more opportunities to seek out entertainment.\n",
    "Releases also seem to increase from August towards the end of the year  meaning it is the best time to capture a wide audience."
   ]
  },
  {
   "cell_type": "markdown",
   "metadata": {},
   "source": [
    "## RECOMMENDATIONS"
   ]
  },
  {
   "cell_type": "markdown",
   "metadata": {},
   "source": []
  },
  {
   "cell_type": "markdown",
   "metadata": {},
   "source": [
    "## REFERENCES"
   ]
  },
  {
   "cell_type": "markdown",
   "metadata": {},
   "source": [
    "<a href=\"https://www.freepik.com/free-vector/film-crew-movie-production-studio-staff_29314759.htm#fromView=search&page=1&position=8&uuid=1c379553-fabc-44ff-a8ab-f4c3d5519362\">Image by upklyak on Freepik</a>"
   ]
  }
 ],
 "metadata": {
  "kernelspec": {
   "display_name": "Python 3",
   "language": "python",
   "name": "python3"
  },
  "language_info": {
   "codemirror_mode": {
    "name": "ipython",
    "version": 3
   },
   "file_extension": ".py",
   "mimetype": "text/x-python",
   "name": "python",
   "nbconvert_exporter": "python",
   "pygments_lexer": "ipython3",
   "version": "3.8.5"
  }
 },
 "nbformat": 4,
 "nbformat_minor": 2
}
